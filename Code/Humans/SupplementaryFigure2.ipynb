{
 "cells": [
  {
   "cell_type": "code",
   "execution_count": 1,
   "metadata": {},
   "outputs": [],
   "source": [
    "import pandas as pd\n",
    "import numpy as np\n",
    "from scipy import stats\n",
    "import seaborn as sns\n",
    "import pickle\n",
    "import matplotlib.pyplot as plt"
   ]
  },
  {
   "cell_type": "code",
   "execution_count": 2,
   "metadata": {},
   "outputs": [],
   "source": [
    "#load data\n",
    "xs=pd.read_csv('HMP2_OnePerSubject.Genus.txt', sep=\"\\t\", index_col=0)\n",
    "metx=pd.read_csv('HMP2_OnePerSubject.log10Metabs.txt', sep=\"\\t\", index_col=0)\n",
    "\n",
    "#replace NaNs with median \n",
    "for i in metx.columns:\n",
    "    med=metx[i].median()\n",
    "    metx.loc[:,i]=metx.loc[:,i].fillna(med)"
   ]
  },
  {
   "cell_type": "code",
   "execution_count": 3,
   "metadata": {},
   "outputs": [],
   "source": [
    "#zscore metadata: required for PCA-type matrix factorization\n",
    "nSamp, nMet = metx.shape\n",
    "nD=xs.shape[1]"
   ]
  },
  {
   "cell_type": "code",
   "execution_count": 4,
   "metadata": {},
   "outputs": [],
   "source": [
    "def train_tmi(xs, metz, nQ, nC, nM, alph, ctf):\n",
    "    nSamp, nO = xs.shape;\n",
    "    nMet = metz.shape[1];\n",
    "    nTot                = nQ + nC + nM;\n",
    "    Z                   = 0.1*np.random.randn(nSamp,nTot);\n",
    "    C                   = 0.1*np.random.randn(nTot,nMet);\n",
    "    C[0:nQ,:]           = 0;\n",
    "    thet                = 0.1*np.random.randn(nTot,nO);\n",
    "    thet[nQ+nC:,:]      = 0;\n",
    "    thetp               = thet.transpose();\n",
    "    # hyperparameters\n",
    "    etaZ = 0.001;etaT = 0.001;etaC = 0.001;\n",
    "    Q = np.exp(np.matmul(-Z,thet));\n",
    "    Q=np.divide(Q.transpose(),Q.sum(axis=1)).transpose()\n",
    "    m = 1;\n",
    "    iteration = 1;\n",
    "    while m > ctf:\n",
    "        Q = np.exp(np.matmul(-Z,thet));\n",
    "        Q=np.divide(Q.transpose(),Q.sum(axis=1)).transpose()\n",
    "        delt = xs.values-Q;\n",
    "        # gradients\n",
    "        grthet           = (alph)*np.matmul(Z.transpose(),delt);\n",
    "        grthet[nQ+nC:,:] = 0;\n",
    "        grzQ             = (alph)*np.matmul(delt,thetp);\n",
    "        grzM             = -2*(1-alph)*np.matmul((metz.values-np.matmul(Z,C)),C.transpose());\n",
    "        grz              = grzQ + grzM\n",
    "        grc              = -2*(1-alph)*np.matmul(Z.transpose(),(metz.values - np.matmul(Z,C)))\n",
    "        grc[0:nQ,:]      = 0;\n",
    "        # update the variables\n",
    "        Z     = Z - etaZ*grz\n",
    "        thet  = thet - etaT*grthet\n",
    "        C     = C - etaC*grc\n",
    "        thetp = thet.transpose();\n",
    "        \n",
    "        # errors\n",
    "        dmet=np.matmul(Z,C)-metz.values\n",
    "        kl=np.nansum(xs.values*np.log(xs.values/Q))\n",
    "        er=(dmet*dmet).sum()\n",
    "        error=(1-alph)*kl + alph*er\n",
    "        #m = np.min(np.min(Q));\n",
    "        m=np.linalg.norm(grz)/np.linalg.norm(Z) + np.linalg.norm(grthet)/np.linalg.norm(thet)+np.linalg.norm(grc)/np.linalg.norm(C)\n",
    "        # Output\n",
    "        if np.mod(iteration,5000) == 0:\n",
    "            print(m)\n",
    "        iteration+=1\n",
    "        \n",
    "    return Z, C, thet, error"
   ]
  },
  {
   "cell_type": "code",
   "execution_count": 5,
   "metadata": {},
   "outputs": [],
   "source": [
    "seed=18567\n",
    "np.random.seed(seed)"
   ]
  },
  {
   "cell_type": "code",
   "execution_count": 6,
   "metadata": {},
   "outputs": [],
   "source": [
    "# optimization parameters\n",
    "nQ = 2;nC = 18;nM = 0;\n",
    "ctf  = 1e-20; \n",
    "alph = 0.1; \n",
    "gctf = 0.01;"
   ]
  },
  {
   "cell_type": "code",
   "execution_count": 7,
   "metadata": {},
   "outputs": [],
   "source": [
    "#first train model on all data\n",
    "train=xs        ##\n",
    "trainmet=metx   ##\n",
    "test=xs\n",
    "testmet=metx\n",
    "N=len(train.index)"
   ]
  },
  {
   "cell_type": "code",
   "execution_count": 8,
   "metadata": {},
   "outputs": [],
   "source": [
    "mu_met = trainmet.mean();sg_met = trainmet.std();\n",
    "trainmetz=trainmet.subtract(mu_met).divide(sg_met)\n",
    "testmetz=testmet.subtract(mu_met).divide(sg_met)"
   ]
  },
  {
   "cell_type": "code",
   "execution_count": 9,
   "metadata": {},
   "outputs": [
    {
     "name": "stderr",
     "output_type": "stream",
     "text": [
      "/tmp/ipykernel_11875/3940590118.py:37: RuntimeWarning: divide by zero encountered in log\n",
      "  kl=np.nansum(xs.values*np.log(xs.values/Q))\n",
      "/tmp/ipykernel_11875/3940590118.py:37: RuntimeWarning: invalid value encountered in multiply\n",
      "  kl=np.nansum(xs.values*np.log(xs.values/Q))\n"
     ]
    },
    {
     "name": "stdout",
     "output_type": "stream",
     "text": [
      "0.2430639589714353\n",
      "0.07731718929273589\n",
      "0.04611852446233172\n",
      "0.03354908386298375\n",
      "0.026352842387244724\n",
      "0.021985532413274427\n",
      "0.01857189338203135\n",
      "0.015440526751126723\n",
      "0.012978119480971377\n",
      "0.011194285956005197\n"
     ]
    }
   ],
   "source": [
    "# Train model\n",
    "Z, C, thet, error= train_tmi(train,trainmetz,nQ,nC,nM,alph,gctf);"
   ]
  },
  {
   "cell_type": "code",
   "execution_count": 10,
   "metadata": {},
   "outputs": [],
   "source": [
    "model={}\n",
    "Q=np.exp(np.matmul(-Z,thet));\n",
    "Q=np.divide(Q.transpose(),Q.sum(axis=1)).transpose()\n",
    "model['Z']=Z\n",
    "model['thet']=thet\n",
    "model['Q']=Q\n",
    "model['xs']=train\n",
    "model['C']=C\n",
    "model['metz']=trainmetz\n",
    "model['alph']=alph\n",
    "model['nQ']=nQ\n",
    "model['nC']=nC\n",
    "model['nM']=nM\n",
    "model['nD']=nD\n",
    "model['seed']=seed\n",
    "model['error']=error\n",
    "model['test']=test\n",
    "model['testmetz']=testmetz"
   ]
  },
  {
   "cell_type": "code",
   "execution_count": 11,
   "metadata": {},
   "outputs": [
    {
     "data": {
      "text/plain": [
       "'HMP2_18_2_0_18567_6.64e+02.pickle'"
      ]
     },
     "execution_count": 11,
     "metadata": {},
     "output_type": "execute_result"
    }
   ],
   "source": [
    "filen = 'HMP2_'+str(nC)+'_'+str(nQ)+'_'+str(nM)+'_'+str(seed)+'_'+f'{error:.3}'+'.pickle'\n",
    "filen"
   ]
  },
  {
   "cell_type": "code",
   "execution_count": 12,
   "metadata": {},
   "outputs": [],
   "source": [
    "#save model\n",
    "with open(filen,'wb') as f:\n",
    "        pickle.dump(model,f)"
   ]
  },
  {
   "cell_type": "code",
   "execution_count": 13,
   "metadata": {},
   "outputs": [
    {
     "name": "stdout",
     "output_type": "stream",
     "text": [
      "Test:\n",
      "(21, 44)\n",
      "Train:\n",
      "(84, 44)\n",
      "Testmet:\n",
      "(21, 239)\n",
      "Trainmet:\n",
      "(84, 239)\n"
     ]
    }
   ],
   "source": [
    "#############split dataset in 80% training, 20% testing\n",
    "np.random.seed(seed)\n",
    "N=int(nSamp*.2)\n",
    "order=np.random.permutation(xs.index)\n",
    "testids=order[0:N]\n",
    "\n",
    "test=xs.loc[testids]\n",
    "train=xs.loc[~xs.index.isin(testids)]\n",
    "testmet=metx.loc[testids]\n",
    "trainmet=metx.loc[~xs.index.isin(testids)]\n",
    "\n",
    "N=len(train.index)\n",
    "\n",
    "print('Test:')\n",
    "print(test.shape)\n",
    "print('Train:')\n",
    "print(train.shape)\n",
    "print('Testmet:')\n",
    "print(testmet.shape)\n",
    "print('Trainmet:')\n",
    "print(trainmet.shape)"
   ]
  },
  {
   "cell_type": "code",
   "execution_count": 14,
   "metadata": {},
   "outputs": [],
   "source": [
    "mu_met = trainmet.mean();sg_met = trainmet.std();\n",
    "trainmetz=trainmet.subtract(mu_met).divide(sg_met)\n",
    "testmetz=testmet.subtract(mu_met).divide(sg_met)"
   ]
  },
  {
   "cell_type": "code",
   "execution_count": 15,
   "metadata": {},
   "outputs": [
    {
     "name": "stderr",
     "output_type": "stream",
     "text": [
      "/tmp/ipykernel_11875/3940590118.py:37: RuntimeWarning: divide by zero encountered in log\n",
      "  kl=np.nansum(xs.values*np.log(xs.values/Q))\n",
      "/tmp/ipykernel_11875/3940590118.py:37: RuntimeWarning: invalid value encountered in multiply\n",
      "  kl=np.nansum(xs.values*np.log(xs.values/Q))\n"
     ]
    },
    {
     "name": "stdout",
     "output_type": "stream",
     "text": [
      "0.14865066575613126\n",
      "0.20669704066135614\n",
      "0.052216752134041255\n",
      "0.03404045258181441\n",
      "0.026401415015420163\n",
      "0.021446573510482278\n",
      "0.018183668103426573\n",
      "0.016029092597022544\n",
      "0.014459077248255616\n",
      "0.013071937734635027\n",
      "0.01167960222393965\n",
      "0.010302653954826138\n"
     ]
    }
   ],
   "source": [
    "Z, C, thet, error= train_tmi(train,trainmetz,nQ,nC,nM,alph,gctf);"
   ]
  },
  {
   "cell_type": "code",
   "execution_count": 16,
   "metadata": {},
   "outputs": [],
   "source": [
    "model={}\n",
    "Q=np.exp(np.matmul(-Z,thet));\n",
    "Q=np.divide(Q.transpose(),Q.sum(axis=1)).transpose()\n",
    "model['Z']=Z\n",
    "model['thet']=thet\n",
    "model['Q']=Q\n",
    "model['xs']=train\n",
    "model['C']=C\n",
    "model['metz']=trainmetz\n",
    "model['alph']=alph\n",
    "model['nQ']=nQ\n",
    "model['nC']=nC\n",
    "model['nM']=nM\n",
    "model['nD']=nD\n",
    "model['seed']=seed\n",
    "model['error']=error\n",
    "model['test']=test\n",
    "model['testmetz']=testmetz"
   ]
  },
  {
   "cell_type": "code",
   "execution_count": 17,
   "metadata": {},
   "outputs": [
    {
     "data": {
      "text/plain": [
       "'HMP2_18_2_0_18567_4.9e+02.80-20.pickle'"
      ]
     },
     "execution_count": 17,
     "metadata": {},
     "output_type": "execute_result"
    }
   ],
   "source": [
    "filen = 'HMP2_'+str(nC)+'_'+str(nQ)+'_'+str(nM)+'_'+str(seed)+'_'+f'{error:.3}'+'.80-20.pickle'\n",
    "filen"
   ]
  },
  {
   "cell_type": "code",
   "execution_count": 18,
   "metadata": {},
   "outputs": [],
   "source": [
    "#save model\n",
    "with open(filen,'wb') as f:\n",
    "        pickle.dump(model,f)"
   ]
  },
  {
   "cell_type": "code",
   "execution_count": 19,
   "metadata": {},
   "outputs": [],
   "source": [
    "def predict_microbiome_pd(model, testmetz):\n",
    "    nTest=len(testmetz.index)\n",
    "    nQ=model['nQ']\n",
    "    nC=model['nC']\n",
    "    Cplus=np.linalg.pinv(model['C'])\n",
    "    muZ=model['Z'].mean(axis=0)\n",
    "    covZ=np.cov(model['Z'].transpose())\n",
    "    cov11=covZ[0:nQ,0:nQ]\n",
    "    cov12=covZ[0:nQ,nQ:]\n",
    "    cov21=cov12.transpose()\n",
    "    cov22=covZ[nQ:,nQ:]\n",
    "    \n",
    "    prd = np.zeros((nTest,model['xs'].shape[1]))\n",
    "    for i in range(nTest):\n",
    "        Zp1 = np.matmul(testmetz.values[i,:],Cplus) \n",
    "        Zp1 = Zp1[nQ:]\n",
    "        mubar = muZ[0:nQ] + np.matmul(np.matmul(cov12,np.linalg.inv(cov22)),Zp1.transpose()-muZ[nQ:]);\n",
    "        Zpx = np.concatenate((mubar.transpose(), Zp1), axis=0)\n",
    "        f = np.matmul(Zpx,model['thet'])\n",
    "        Q = np.exp(-f)\n",
    "        Q = Q/Q.sum()\n",
    "        prd[i,:] = Q;\n",
    "\n",
    "    return prd"
   ]
  },
  {
   "cell_type": "code",
   "execution_count": 20,
   "metadata": {},
   "outputs": [],
   "source": [
    "def predict_metadata_pd(model,test):\n",
    "    nTest=len(test.index)\n",
    "    nQ=model['nQ']\n",
    "    nC=model['nC']\n",
    "    ths=model['thet'][0:nQ+nC,:]\n",
    "    Ztest = 0.1*np.random.randn(nTest,nC+nQ);\n",
    "    eta = 0.005;\n",
    "    for i in range(10000):\n",
    "        f=np.matmul(Ztest,ths)\n",
    "        Q=np.exp(-f)\n",
    "        Q  = np.divide(Q.transpose(),Q.sum(axis=1)).transpose()\n",
    "        delt=test.values-Q\n",
    "        grz=np.matmul(delt,ths.transpose())\n",
    "        Ztest=Ztest-eta*grz\n",
    "    muZ=model['Z'].mean(axis=0)\n",
    "    covZ=np.cov(Z.transpose())\n",
    "    cov11=covZ[nQ+nC:,nQ+nC:]\n",
    "    cov12=covZ[nQ+nC:,0:nQ+nC]\n",
    "    cov21=cov12.transpose()\n",
    "    cov22=covZ[0:nQ+nC,0:nQ+nC]\n",
    "    prd=np.zeros((nTest,model['metz'].shape[1]))\n",
    "    for i in range(nTest):\n",
    "        Zp1 = Ztest[i,:]\n",
    "        mubar = muZ[nQ+nC:] + np.matmul(np.matmul(cov12,np.linalg.inv(cov22)),Zp1.transpose()-muZ[0:nQ+nC])\n",
    "        Zpx = np.concatenate((Zp1,mubar.transpose()), axis=0)\n",
    "        f = np.matmul(Zpx,model['C'])        \n",
    "        prd[i,:] = f;   \n",
    "    return prd"
   ]
  },
  {
   "cell_type": "code",
   "execution_count": 21,
   "metadata": {},
   "outputs": [],
   "source": [
    "#load full model\n",
    "filen='HMP2_18_2_0_18567_6.64e+02.pickle'"
   ]
  },
  {
   "cell_type": "code",
   "execution_count": 22,
   "metadata": {},
   "outputs": [],
   "source": [
    "with open(filen,'rb') as f:\n",
    "        model=pickle.load(f)\n",
    "Z=model['Z']\n",
    "thet=model['thet']\n",
    "Q=model['Q']\n",
    "train=model['xs']\n",
    "C=model['C']\n",
    "trainmetz=model['metz']\n",
    "alph=model['alph']\n",
    "nQ=model['nQ']\n",
    "nC=model['nC']\n",
    "nM=model['nM']\n",
    "nD=model['nD']\n",
    "seed=model['seed']\n",
    "error=model['error']\n",
    "test=model['test']\n",
    "testmetz=model['testmetz']"
   ]
  },
  {
   "cell_type": "code",
   "execution_count": 23,
   "metadata": {},
   "outputs": [],
   "source": [
    "#predict microbiome\n",
    "prd=predict_microbiome_pd(model,testmetz)"
   ]
  },
  {
   "cell_type": "code",
   "execution_count": 24,
   "metadata": {},
   "outputs": [],
   "source": [
    "corrs=[]\n",
    "for i in range(len(test.index)):\n",
    "    r,p=stats.spearmanr(prd[i,:],test.loc[test.index[i],:])\n",
    "    if np.isnan(r):\n",
    "        continue\n",
    "    corrs.append(r)\n",
    "order=np.random.permutation(train.index)\n",
    "hf1=order[0:int(len(order)/2)]\n",
    "hf2=order[int(len(order)/2):]\n",
    "\n",
    "\n",
    "#use random pairs in training as null\n",
    "#np.random.seed(seed)\n",
    "order=np.random.permutation(train.index)\n",
    "hf1=order[0:int(len(order)/2)]\n",
    "hf2=order[int(len(order)/2):]\n",
    "nullspear=[]\n",
    "nullspearp=[]\n",
    "for i in range(len(hf1)):\n",
    "    r,p = stats.spearmanr(train.loc[hf1[i],:],train.loc[hf2[i],:])\n",
    "    nullspear.append(r)\n",
    "    nullspearp.append(p)\n",
    "s,p=stats.mannwhitneyu(corrs,nullspear,alternative='greater')\n"
   ]
  },
  {
   "cell_type": "code",
   "execution_count": 25,
   "metadata": {},
   "outputs": [],
   "source": [
    "profile=corrs\n",
    "random=nullspear"
   ]
  },
  {
   "cell_type": "code",
   "execution_count": 26,
   "metadata": {},
   "outputs": [
    {
     "name": "stderr",
     "output_type": "stream",
     "text": [
      "/home/platyias/anaconda3/lib/python3.9/site-packages/scipy/stats/stats.py:4484: SpearmanRConstantInputWarning: An input array is constant; the correlation coefficient is not defined.\n",
      "  warnings.warn(SpearmanRConstantInputWarning())\n"
     ]
    }
   ],
   "source": [
    "#Calculate correlations across samples and compare to random pairs\n",
    "corrotu=[]\n",
    "for i in range(len(test.columns)):\n",
    "    r,p=stats.spearmanr(prd[:,i],test.loc[:,test.columns[i]])\n",
    "    if np.isnan(r):\n",
    "        continue\n",
    "    corrotu.append(r)\n",
    "    \n",
    "#np.random.seed(seed)\n",
    "order=np.random.permutation(train.columns)\n",
    "hf1=order[0:int(len(order)/2)]\n",
    "hf2=order[int(len(order)/2):]\n",
    "nullotu=[]\n",
    "nullotup=[]\n",
    "for i in range(len(hf1)):\n",
    "    r,p = stats.spearmanr(train.loc[:,hf1[i]],train.loc[:,hf2[i]])\n",
    "    if np.isnan(r):\n",
    "        continue\n",
    "    nullotu.append(r)\n",
    "    nullotup.append(p)    "
   ]
  },
  {
   "cell_type": "code",
   "execution_count": 27,
   "metadata": {},
   "outputs": [],
   "source": [
    "otuprofile=corrotu\n",
    "randomotu=nullotu"
   ]
  },
  {
   "cell_type": "code",
   "execution_count": 28,
   "metadata": {},
   "outputs": [],
   "source": [
    "#predict metadata\n",
    "prddf=pd.DataFrame(index=testmetz.index,columns=testmetz.columns, data=predict_metadata_pd(model,test))"
   ]
  },
  {
   "cell_type": "code",
   "execution_count": 29,
   "metadata": {},
   "outputs": [],
   "source": [
    "#Accuracy across metabolites (Z-normalized)\n",
    "spear=[]\n",
    "spearp=[]\n",
    "for i in range(len(test.index)):\n",
    "    r,p = stats.spearmanr(prddf.values[i,:],testmetz.values[i,:])\n",
    "    if np.isnan(r):\n",
    "        continue\n",
    "    spear.append(r)\n",
    "    spearp.append(p)\n",
    "    \n",
    "#use random pairs in training as null\n",
    "np.random.seed(seed)\n",
    "order=np.random.permutation(train.index)\n",
    "hf1=order[0:int(len(order)/2)]\n",
    "hf2=order[int(len(order)/2):]\n",
    "nullspear=[]\n",
    "nullspearp=[]\n",
    "for i in range(len(hf1)):\n",
    "    r,p = stats.spearmanr(trainmetz.loc[hf1[i],:],trainmetz.loc[hf2[i],:])\n",
    "    nullspear.append(r)\n",
    "    nullspearp.append(p)\n",
    "s,p=stats.mannwhitneyu(spear,nullspear,alternative='greater')\n"
   ]
  },
  {
   "cell_type": "code",
   "execution_count": 30,
   "metadata": {},
   "outputs": [],
   "source": [
    "metprofile=spear\n",
    "randommet=nullspear"
   ]
  },
  {
   "cell_type": "code",
   "execution_count": 31,
   "metadata": {},
   "outputs": [],
   "source": [
    "#Accuracy of metabolites across samples\n",
    "corrmet=pd.DataFrame(index=model['metz'].columns, columns=['r','p'])\n",
    "for i in model['metz'].columns:\n",
    "    r,p=stats.spearmanr(prddf.loc[:,i],testmetz.loc[:,i])\n",
    "    corrmet.loc[i,:]=[r,p]\n",
    "\n",
    "corrmetr=list(corrmet.r.values)\n",
    "\n",
    "#np.random.seed(seed)\n",
    "order=np.random.permutation(trainmetz.columns)\n",
    "hf1=order[0:int(len(order)/2)]\n",
    "hf2=order[int(len(order)/2):]\n",
    "nullmet=[]\n",
    "nullmetp=[]\n",
    "for i in range(len(hf1)):\n",
    "    r,p = stats.spearmanr(trainmetz.loc[:,hf1[i]],trainmetz.loc[:,hf2[i]])\n",
    "    if np.isnan(r):\n",
    "        continue\n",
    "    nullmet.append(r)\n",
    "    nullmetp.append(p)\n"
   ]
  },
  {
   "cell_type": "code",
   "execution_count": 32,
   "metadata": {},
   "outputs": [],
   "source": [
    "metcorr=corrmetr\n",
    "randommetcorr=nullmet"
   ]
  },
  {
   "cell_type": "code",
   "execution_count": 33,
   "metadata": {},
   "outputs": [],
   "source": [
    "# load train-test model\n",
    "filen='HMP2_18_2_0_18567_4.9e+02.80-20.pickle'\n",
    "with open(filen,'rb') as f:\n",
    "        model=pickle.load(f)\n",
    "Z=model['Z']\n",
    "thet=model['thet']\n",
    "Q=model['Q']\n",
    "train=model['xs']\n",
    "C=model['C']\n",
    "trainmetz=model['metz']\n",
    "alph=model['alph']\n",
    "nQ=model['nQ']\n",
    "nC=model['nC']\n",
    "nM=model['nM']\n",
    "nD=model['nD']\n",
    "seed=model['seed']\n",
    "error=model['error']\n",
    "test=model['test']\n",
    "testmetz=model['testmetz']"
   ]
  },
  {
   "cell_type": "code",
   "execution_count": 34,
   "metadata": {},
   "outputs": [],
   "source": [
    "#predict microbiome\n",
    "prd=predict_microbiome_pd(model,testmetz)"
   ]
  },
  {
   "cell_type": "code",
   "execution_count": 35,
   "metadata": {},
   "outputs": [],
   "source": [
    "#predict metadata\n",
    "prddf=pd.DataFrame(index=testmetz.index,columns=testmetz.columns, data=predict_metadata_pd(model,test))"
   ]
  },
  {
   "cell_type": "code",
   "execution_count": 36,
   "metadata": {},
   "outputs": [],
   "source": [
    "#calculate correlations across OTUs\n",
    "corrs=[]\n",
    "for i in range(len(test.index)):\n",
    "    r,p=stats.spearmanr(prd[i,:],test.loc[test.index[i],:])\n",
    "    if np.isnan(r):\n",
    "        continue\n",
    "    corrs.append(r)\n",
    "order=np.random.permutation(train.index)\n",
    "hf1=order[0:int(len(order)/2)]\n",
    "hf2=order[int(len(order)/2):]"
   ]
  },
  {
   "cell_type": "code",
   "execution_count": 37,
   "metadata": {},
   "outputs": [],
   "source": [
    "pred_profile=corrs"
   ]
  },
  {
   "cell_type": "code",
   "execution_count": 38,
   "metadata": {},
   "outputs": [],
   "source": [
    "#Calculate correlations across samples \n",
    "corrotu=[]\n",
    "for i in range(len(test.columns)):\n",
    "    r,p=stats.spearmanr(prd[:,i],test.loc[:,test.columns[i]])\n",
    "    if np.isnan(r):\n",
    "        continue\n",
    "    corrotu.append(r)"
   ]
  },
  {
   "cell_type": "code",
   "execution_count": 39,
   "metadata": {},
   "outputs": [],
   "source": [
    "pred_otuprofile=corrotu"
   ]
  },
  {
   "cell_type": "code",
   "execution_count": 40,
   "metadata": {},
   "outputs": [],
   "source": [
    "#Accuracy across metabolites (Z-normalized)\n",
    "spear=[]\n",
    "spearp=[]\n",
    "for i in range(len(test.index)):\n",
    "    r,p = stats.spearmanr(prddf.values[i,:],testmetz.values[i,:])\n",
    "    if np.isnan(r):\n",
    "        continue\n",
    "    spear.append(r)\n",
    "    spearp.append(p)"
   ]
  },
  {
   "cell_type": "code",
   "execution_count": 41,
   "metadata": {},
   "outputs": [],
   "source": [
    "pred_metprofile=spear"
   ]
  },
  {
   "cell_type": "code",
   "execution_count": 42,
   "metadata": {},
   "outputs": [],
   "source": [
    "#Accuracy of metabolites across samples\n",
    "corrmet=pd.DataFrame(index=model['metz'].columns, columns=['r','p'])\n",
    "for i in model['metz'].columns:\n",
    "    r,p=stats.spearmanr(prddf.loc[:,i],testmetz.loc[:,i])\n",
    "    corrmet.loc[i,:]=[r,p]\n",
    "\n",
    "corrmetr=list(corrmet.r.values)"
   ]
  },
  {
   "cell_type": "code",
   "execution_count": 43,
   "metadata": {},
   "outputs": [],
   "source": [
    "pred_metcorr=list(corrmet.r.values)"
   ]
  },
  {
   "cell_type": "code",
   "execution_count": 44,
   "metadata": {
    "scrolled": false
   },
   "outputs": [
    {
     "data": {
      "image/png": "[encoded data removed]",
      "text/plain": [
       "<Figure size 360x144 with 1 Axes>"
      ]
     },
     "metadata": {
      "needs_background": "light"
     },
     "output_type": "display_data"
    }
   ],
   "source": [
    "#histograms\n",
    "fig,ax=plt.subplots(figsize=(5,2))\n",
    "\n",
    "kde=stats.gaussian_kde(profile)\n",
    "x = np.linspace(np.min(profile+[-0.5]), np.max(profile+[1]), 100)\n",
    "ax=sns.lineplot(x=x, y=kde(x),color='b',linewidth=2.5, label='model fit')\n",
    "\n",
    "kde=stats.gaussian_kde(pred_profile)\n",
    "x = np.linspace(np.min(pred_profile+[-0.5]), np.max(pred_profile+[1]), 100)\n",
    "ax=sns.lineplot(x=x, y=kde(x), color='b',linewidth=2.5,linestyle='--', label='predictions')\n",
    "\n",
    "kde=stats.gaussian_kde(random)\n",
    "x = np.linspace(np.min(random+[-0.5]), np.max(random+[1]), 100)\n",
    "ax=sns.lineplot(x=x, y=kde(x), color='k',linewidth=2.5, label='random\\npairs')\n",
    "\n",
    "ax.spines['right'].set_visible(False)\n",
    "ax.spines['top'].set_visible(False)\n",
    "ax.spines['left'].set_visible(False)\n",
    "ax.set_yticklabels([])\n",
    "ax.set_yticks([])\n",
    "ax.set_ylabel('probability', fontsize=15,fontweight='bold')\n",
    "ax.set_xlabel('Spearman correlation', fontsize=15,fontweight='bold')\n",
    "ax.set_ylim(0,4)\n",
    "ax.set_title('microbiome', fontweight='bold', fontsize=14, color='b')\n",
    "legend_properties = {'weight':'bold','size':12}\n",
    "ax.legend(prop=legend_properties,frameon=False)\n",
    "ax.set_xticks([-0.5,0, 0.5,1])\n",
    "ax.set_xticks([-0.5,0, 0.5,1])\n",
    "ax.tick_params(axis='x', which='major', labelsize=15,direction='in')\n",
    "plt.xticks(weight = 'bold');"
   ]
  },
  {
   "cell_type": "code",
   "execution_count": 45,
   "metadata": {},
   "outputs": [
    {
     "data": {
      "image/png": "[encoded data removed]",
      "text/plain": [
       "<Figure size 360x144 with 1 Axes>"
      ]
     },
     "metadata": {
      "needs_background": "light"
     },
     "output_type": "display_data"
    }
   ],
   "source": [
    "#histograms\n",
    "fig,ax=plt.subplots(figsize=(5,2))\n",
    "\n",
    "kde=stats.gaussian_kde(otuprofile)\n",
    "x = np.linspace(np.min(otuprofile+[-0.5]), np.max(otuprofile+[1]), 100)\n",
    "ax=sns.lineplot(x=x, y=kde(x),color='b',linewidth=2.5, label='model fit')\n",
    "\n",
    "kde=stats.gaussian_kde(pred_otuprofile)\n",
    "x = np.linspace(np.min(pred_otuprofile+[-0.5]), np.max(pred_otuprofile+[1]), 100)\n",
    "ax=sns.lineplot(x=x, y=kde(x), color='b',linewidth=2.5,linestyle='--', label='predictions')\n",
    "\n",
    "kde=stats.gaussian_kde(randomotu)\n",
    "x = np.linspace(np.min(randomotu+[-0.5]), np.max(randomotu+[1]), 100)\n",
    "ax=sns.lineplot(x=x, y=kde(x), color='k',linewidth=2.5, label='random\\npairs')\n",
    "\n",
    "\n",
    "ax.spines['right'].set_visible(False)\n",
    "ax.spines['top'].set_visible(False)\n",
    "ax.spines['left'].set_visible(False)\n",
    "ax.set_yticklabels([])\n",
    "ax.set_yticks([])\n",
    "ax.set_ylabel('probability', fontsize=15,fontweight='bold')\n",
    "ax.set_xlabel('Spearman correlation', fontsize=15,fontweight='bold')\n",
    "ax.set_ylim(0,2.7)\n",
    "ax.set_xlim(-1.25,1.1)\n",
    "ax.set_title('Genus relative abundances', fontweight='bold', fontsize=14, color='b')\n",
    "legend_properties = {'weight':'bold','size':12}\n",
    "ax.legend(prop=legend_properties,frameon=False, bbox_to_anchor=(0.44,1))\n",
    "ax.set_xticks([-0.5,0, 0.5,1])\n",
    "ax.tick_params(axis='x', which='major', labelsize=15,direction='in')\n",
    "plt.xticks(weight = 'bold');"
   ]
  },
  {
   "cell_type": "code",
   "execution_count": 46,
   "metadata": {},
   "outputs": [
    {
     "data": {
      "image/png": "[encoded data removed]",
      "text/plain": [
       "<Figure size 360x144 with 1 Axes>"
      ]
     },
     "metadata": {
      "needs_background": "light"
     },
     "output_type": "display_data"
    }
   ],
   "source": [
    "#histograms\n",
    "fig,ax=plt.subplots(figsize=(5,2))\n",
    "\n",
    "kde=stats.gaussian_kde(metprofile)\n",
    "#kde.set_bandwidth(0.5)\n",
    "x = np.linspace(np.min(metprofile+[-0.5]), np.max(metprofile+[1]), 100)\n",
    "ax=sns.lineplot(x=x, y=kde(x),color='g',linewidth=2.5, label='model fit')\n",
    "\n",
    "kde=stats.gaussian_kde(pred_metprofile)\n",
    "x = np.linspace(np.min(pred_metprofile+[-0.5]), np.max(pred_metprofile+[1]), 100)\n",
    "ax=sns.lineplot(x=x, y=kde(x), color='g',linewidth=2.5,linestyle='--', label='predictions')\n",
    "\n",
    "kde=stats.gaussian_kde(randommet)\n",
    "x = np.linspace(np.min(randommet+[-0.75]), np.max(randommet+[1]), 100)\n",
    "ax=sns.lineplot(x=x, y=kde(x), color='k',linewidth=2.5, label='random\\npairs')\n",
    "\n",
    "ax.spines['right'].set_visible(False)\n",
    "ax.spines['top'].set_visible(False)\n",
    "ax.spines['left'].set_visible(False)\n",
    "ax.set_yticklabels([])\n",
    "ax.set_yticks([])\n",
    "ax.set_ylabel('probability', fontsize=15,fontweight='bold')\n",
    "ax.set_xlabel('Spearman correlation', fontsize=15,fontweight='bold')\n",
    "ax.set_ylim(0,2.7)\n",
    "ax.set_xlim(-0.75,1.1)\n",
    "ax.set_title('metabolome', fontweight='bold', fontsize=14, color='g')\n",
    "legend_properties = {'weight':'bold','size':12}\n",
    "ax.legend(prop=legend_properties,frameon=False, bbox_to_anchor=(0.9,1))\n",
    "ax.set_xticks([-0.5,0, 0.5,1])\n",
    "ax.set_xticks([-0.5,0, 0.5,1])\n",
    "ax.tick_params(axis='x', which='major', labelsize=15, direction='in')\n",
    "plt.xticks(weight = 'bold');"
   ]
  },
  {
   "cell_type": "code",
   "execution_count": 47,
   "metadata": {},
   "outputs": [
    {
     "data": {
      "image/png": "[encoded data removed]",
      "text/plain": [
       "<Figure size 360x144 with 1 Axes>"
      ]
     },
     "metadata": {
      "needs_background": "light"
     },
     "output_type": "display_data"
    }
   ],
   "source": [
    "#histograms\n",
    "fig,ax=plt.subplots(figsize=(5,2))\n",
    "\n",
    "kde=stats.gaussian_kde(metcorr)\n",
    "x = np.linspace(np.min(metcorr+[-0.5]), np.max(metcorr+[1]), 100)\n",
    "ax=sns.lineplot(x=x, y=kde(x),color='g',linewidth=2.5, label='model fit')\n",
    "\n",
    "kde=stats.gaussian_kde(pred_metcorr)\n",
    "x = np.linspace(np.min(pred_metcorr+[-0.5]), np.max(pred_metcorr+[1]), 100)\n",
    "ax=sns.lineplot(x=x, y=kde(x), color='g',linewidth=2.5,linestyle='--', label='predictions')\n",
    "\n",
    "kde=stats.gaussian_kde(randommetcorr)\n",
    "x = np.linspace(np.min(randommetcorr+[-0.5]), np.max(randommetcorr+[1]), 100)\n",
    "ax=sns.lineplot(x=x, y=kde(x), color='k',linewidth=2.5, label='random\\npairs')\n",
    "\n",
    "\n",
    "ax.spines['right'].set_visible(False)\n",
    "ax.spines['top'].set_visible(False)\n",
    "ax.spines['left'].set_visible(False)\n",
    "ax.set_yticklabels([])\n",
    "ax.set_yticks([])\n",
    "ax.set_ylabel('probability', fontsize=15,fontweight='bold')\n",
    "ax.set_xlabel('Spearman correlation', fontsize=15,fontweight='bold')\n",
    "ax.set_ylim(0,5)\n",
    "ax.set_title('metabolite abundances', fontweight='bold', fontsize=14, color='g')\n",
    "legend_properties = {'weight':'bold','size':12}\n",
    "ax.legend(prop=legend_properties,frameon=False, bbox_to_anchor=(0.7,1))\n",
    "ax.set_xticks([-0.5,0, 0.5,1])\n",
    "ax.set_xticks([-0.5,0, 0.5,1])\n",
    "ax.tick_params(axis='x', which='major', labelsize=15,direction='in')\n",
    "plt.xticks(weight = 'bold');"
   ]
  }
 ],
 "metadata": {
  "kernelspec": {
   "display_name": "Python 3 (ipykernel)",
   "language": "python",
   "name": "python3"
  },
  "language_info": {
   "codemirror_mode": {
    "name": "ipython",
    "version": 3
   },
   "file_extension": ".py",
   "mimetype": "text/x-python",
   "name": "python",
   "nbconvert_exporter": "python",
   "pygments_lexer": "ipython3",
   "version": "3.9.7"
  }
 },
 "nbformat": 4,
 "nbformat_minor": 4
}
