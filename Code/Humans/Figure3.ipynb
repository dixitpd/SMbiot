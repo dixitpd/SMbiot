{
 "cells": [
  {
   "cell_type": "code",
   "execution_count": 1,
   "metadata": {},
   "outputs": [],
   "source": [
    "#Load libraries\n",
    "import pandas as pd\n",
    "import numpy as np\n",
    "from scipy import stats\n",
    "import seaborn as sns\n",
    "import pickle\n",
    "import matplotlib.pyplot as plt"
   ]
  },
  {
   "cell_type": "code",
   "execution_count": 2,
   "metadata": {},
   "outputs": [],
   "source": [
    "META=pd.read_csv('SUBJECT_METADTA.txt', sep=\"\\t\", index_col=0) # Sample metadata\n",
    "xs=pd.read_csv('HMP2_SamplesWithMetadata.Genus.txt', sep=\"\\t\", index_col=0) # relative abundances\n",
    "metx=pd.read_csv('HMP2_SamplesWithMetadata.Metabs.txt', sep=\"\\t\", index_col=0) # metabolite abundances\n",
    "metx=np.log10(metx+1)"
   ]
  },
  {
   "cell_type": "code",
   "execution_count": 3,
   "metadata": {},
   "outputs": [],
   "source": [
    "#convert metabolites to z scores\n",
    "mu_met = metx.mean();sg_met = metx.std();\n",
    "metz=metx.subtract(mu_met).divide(sg_met)"
   ]
  },
  {
   "cell_type": "code",
   "execution_count": 4,
   "metadata": {},
   "outputs": [],
   "source": [
    "#keep data from individuals with at least 2 samples\n",
    "sel=META.groupby('host_subject_id').count()[META.groupby('host_subject_id').count()['Host_Age']>1].index"
   ]
  },
  {
   "cell_type": "code",
   "execution_count": 5,
   "metadata": {},
   "outputs": [],
   "source": [
    "def sensitivity_matrices_shared_latents(Q,thet,C,Kc,index):\n",
    "    #a = Km + Kc\n",
    "    a, nMet = C.shape;\n",
    "    Km = a - Kc; # Free metadata latents\n",
    "    #b = Kq + Kc\n",
    "    b, nO = thet.shape;\n",
    "    Kq = b - Kc; # Free microbiome latents\n",
    "    Ktot = Kq + Km + Kc;\n",
    "    print([Kq, Kc, Km])\n",
    "    # Initialize bigger C and theta matrices, some of whose rows are zeros. \n",
    "    bigC = np.zeros((Ktot,nMet));\n",
    "    bigT = np.zeros((Ktot,nO));\n",
    "    bigC[Kq:,:]  = C;\n",
    "    bigT[0:Kq+Kc,:] = thet; \n",
    "    nSamp = Q.shape[0];\n",
    "    log_sens={}\n",
    "    sens={}\n",
    "    for s in range(nSamp):\n",
    "        q=Q[s,:]\n",
    "        tav=np.matmul(q,bigT.transpose()).reshape(Ktot,1)\n",
    "        DeltalQ = -bigT + tav #For sensitivity matrix for log-fold change in abundance  #CHECK\n",
    "        DeltaQ= DeltalQ*q #For sensitivity matrix for absolute change in abundance\n",
    "        iDeltlQ=np.linalg.pinv(DeltalQ)\n",
    "        iDeltQ =np.linalg.pinv(DeltaQ)\n",
    "        log_sens[index[s]]=np.matmul(iDeltlQ,bigC)\n",
    "        sens[index[s]] = np.matmul(iDeltQ,bigC)\n",
    "        #print(s)\n",
    "    return log_sens, sens"
   ]
  },
  {
   "cell_type": "code",
   "execution_count": 6,
   "metadata": {},
   "outputs": [],
   "source": [
    "#load model (trained on one sample per subject [only subjects with metadata])\n",
    "filen='HMP2_18_2_0_18567_6.64e+02.pickle'\n",
    "with open(filen,'rb') as f:\n",
    "        model=pickle.load(f)\n"
   ]
  },
  {
   "cell_type": "code",
   "execution_count": 7,
   "metadata": {},
   "outputs": [
    {
     "name": "stdout",
     "output_type": "stream",
     "text": [
      "[2, 18, 0]\n"
     ]
    }
   ],
   "source": [
    "#calculate matrices\n",
    "log_sens, sens=sensitivity_matrices_shared_latents(model['Q'],\n",
    "                                                   model['thet'][0:model['nQ']+model['nC'],:],\n",
    "                                                   model['C'][model['nQ']:,:],\n",
    "                                                   model['nC'],\n",
    "                                                   model['xs'].index);"
   ]
  },
  {
   "cell_type": "code",
   "execution_count": 8,
   "metadata": {},
   "outputs": [],
   "source": [
    "#retrieve training data from model only for filtered subjects\n",
    "train=model['xs'].loc[model['xs'].index[model['xs'].index.isin(META.index[META.host_subject_id.isin(sel)])]]\n",
    "trainmetz=model['metz'].loc[model['xs'].index[model['xs'].index.isin(META.index[META.host_subject_id.isin(sel)])]]"
   ]
  },
  {
   "cell_type": "code",
   "execution_count": 9,
   "metadata": {},
   "outputs": [],
   "source": [
    "#retrieve model parameters for filtered subjects\n",
    "trainpos=np.argwhere(model['xs'].index.isin(train.index))\n",
    "Z=model['Z'][trainpos,:]\n",
    "Q=model['Q'][trainpos,:]"
   ]
  },
  {
   "cell_type": "code",
   "execution_count": 10,
   "metadata": {},
   "outputs": [],
   "source": [
    "#define testing data (remaining samples from selected subjects)\n",
    "testids=META.index[(META.host_subject_id.isin(sel))&(~META.host_subject_id.isin(train.index))]\n",
    "test=xs.loc[testids]\n",
    "testmetz=metz.loc[testids]"
   ]
  },
  {
   "cell_type": "code",
   "execution_count": 11,
   "metadata": {},
   "outputs": [],
   "source": [
    "# Latent space embedding the testing data\n",
    "nTest=len(test.index)\n",
    "nQ=model['nQ']\n",
    "nC=model['nC']\n",
    "ths=model['thet'][0:nQ+nC,:]\n",
    "Ztest = 0.1*np.random.randn(nTest,nC+nQ);\n",
    "eta = 0.005;\n",
    "for i in range(10000):\n",
    "    f=np.matmul(Ztest,ths)\n",
    "    Qtest=np.exp(-f)\n",
    "    Qtest=np.divide(Qtest.transpose(),Qtest.sum(axis=1)).transpose()\n",
    "    delt=test.values-Qtest\n",
    "    grz=np.matmul(delt,ths.transpose())\n",
    "    Ztest=Ztest-eta*grz"
   ]
  },
  {
   "cell_type": "code",
   "execution_count": 12,
   "metadata": {},
   "outputs": [],
   "source": [
    "#accuracy of sign changes for samples of same individual (at least 2 SD difference)\n",
    "#Only comparisons within same individual, include closest interaction matrix + 3 random matrices\n",
    "\n",
    "signprderr=pd.DataFrame(columns=['sensitivity_matrix','prediction','acc','dZ','type'])\n",
    "count=1\n",
    "for i in range(len(train.index)):\n",
    "    for j in range(len(test.index)):\n",
    "        dQ=Qtest[j,:]-Q[i,:]\n",
    "        #if np.linalg.norm(dQ)>0.2: ## No cutoff, just changes within an individual\n",
    "        #    continue\n",
    "        if META.loc[train.index[i],'host_subject_id'] != META.loc[test.index[j],'host_subject_id']:\n",
    "            continue\n",
    "            \n",
    "        #using matrix from self\n",
    "        dZ=np.linalg.norm(Z[i,:]-Ztest[j,:])\n",
    "        M=testmetz.loc[test.index[j],:]\n",
    "        dMprd=np.matmul(dQ,sens[train.index[i]])\n",
    "        PRD=dMprd[0]+trainmetz.iloc[i,:]\n",
    "        true_pos=((M-trainmetz.iloc[i,:])>2).astype(int)\n",
    "        true_neg=((M-trainmetz.iloc[i,:])<-2).astype(int)\n",
    "        pred_pos=((PRD-trainmetz.iloc[i,:])>2).astype(int)\n",
    "        pred_neg=((PRD-trainmetz.iloc[i,:])<-2).astype(int)\n",
    "        true_sign=true_pos+true_neg*-1\n",
    "        pred_sign=pred_pos+pred_neg*-1\n",
    "        acc=sum((true_sign==pred_sign))/len(true_sign)\n",
    "        signprderr.loc[count,:]=[META.loc[train.index[i],'host_subject_id'],META.loc[test.index[j],'host_subject_id'],acc,dZ,'same']\n",
    "        count+=1\n",
    "        \n",
    "        \n",
    "        #using closest non-self interaction matrix\n",
    "        dz=1e9\n",
    "        closest=0\n",
    "        for k in range(len(train.index)):\n",
    "            if k==i:\n",
    "                continue\n",
    "            ddz=np.linalg.norm(Z[k,:]-Z[i,:]) #ddz=np.linalg.norm(Z[k,:]-Ztest[j,:])\n",
    "            if ddz<dz:\n",
    "                dz=ddz\n",
    "                closest=k\n",
    "        dZ=dz\n",
    "        M=testmetz.loc[test.index[closest],:]\n",
    "        dMprd=np.matmul(dQ,sens[train.index[i]])\n",
    "        PRD=dMprd[0]+trainmetz.iloc[i,:]\n",
    "        true_pos=((M-trainmetz.iloc[i,:])>2).astype(int)\n",
    "        true_neg=((M-trainmetz.iloc[i,:])<-2).astype(int)\n",
    "        pred_pos=((PRD-trainmetz.iloc[i,:])>2).astype(int)\n",
    "        pred_neg=((PRD-trainmetz.iloc[i,:])<-2).astype(int)\n",
    "        true_sign=true_pos+true_neg*-1\n",
    "        pred_sign=pred_pos+pred_neg*-1\n",
    "        acc=sum((true_sign==pred_sign))/len(true_sign)\n",
    "        signprderr.loc[count,:]=[META.loc[train.index[i],'host_subject_id'],META.loc[test.index[j],'host_subject_id'],acc,dZ,'closest']\n",
    "        count+=1\n",
    "        \n",
    "        #add three random ones\n",
    "        order=np.random.permutation(range(len(train.index)))\n",
    "        for k in range(3):\n",
    "            dZ=np.linalg.norm(Z[order[k],:]-Z[i,:]) # np.linalg.norm(Z[order[k],:]-Ztest[j,:])\n",
    "            M=testmetz.loc[test.index[j],:]\n",
    "            dMprd=np.matmul(dQ,sens[train.index[order[k]]])\n",
    "            PRD=dMprd[0]+trainmetz.iloc[i,:]\n",
    "            true_pos=((M-trainmetz.iloc[i,:])>2).astype(int)\n",
    "            true_neg=((M-trainmetz.iloc[i,:])<-2).astype(int)\n",
    "            pred_pos=((PRD-trainmetz.iloc[i,:])>2).astype(int)\n",
    "            pred_neg=((PRD-trainmetz.iloc[i,:])<-2).astype(int)\n",
    "            true_sign=true_pos+true_neg*-1\n",
    "            pred_sign=pred_pos+pred_neg*-1\n",
    "            acc=sum((true_sign==pred_sign))/len(true_sign)\n",
    "            signprderr.loc[count,:]=[META.loc[train.index[order[k]],'host_subject_id'],META.loc[test.index[j],'host_subject_id'],acc,dZ,'different']\n",
    "            count+=1"
   ]
  },
  {
   "cell_type": "code",
   "execution_count": 13,
   "metadata": {},
   "outputs": [],
   "source": [
    "#summarize prediction accuracy by individual\n",
    "\n",
    "by_inds=pd.DataFrame(columns=['subject','acc','dZ','type'])\n",
    "count=0\n",
    "x=signprderr[['prediction','acc','dZ']][signprderr.type=='same'].groupby('prediction').mean()\n",
    "for i in x.index:\n",
    "    by_inds.loc[count,:]=[i,x.loc[i,'acc'],x.loc[i,'dZ'],'self']\n",
    "    count+=1\n",
    "\n",
    "x=signprderr[['prediction','acc','dZ']][signprderr.type=='closest'].groupby('prediction').mean() ####\n",
    "for i in x.index:\n",
    "    by_inds.loc[count,:]=[i,x.loc[i,'acc'],x.loc[i,'dZ'],'closest non-self']\n",
    "    count+=1\n",
    "    \n",
    "x=signprderr[['prediction','acc','dZ']][signprderr.type=='different'].groupby('prediction').mean()\n",
    "for i in x.index:\n",
    "    by_inds.loc[count,:]=[i,x.loc[i,'acc'],x.loc[i,'dZ'],'non-self']\n",
    "    count+=1\n"
   ]
  },
  {
   "cell_type": "code",
   "execution_count": 14,
   "metadata": {},
   "outputs": [
    {
     "data": {
      "image/png": "[encoded data removed]",
      "text/plain": [
       "<Figure size 360x144 with 1 Axes>"
      ]
     },
     "metadata": {
      "needs_background": "light"
     },
     "output_type": "display_data"
    }
   ],
   "source": [
    "#histograms\n",
    "self=list(by_inds.acc[by_inds.type=='self'].values)\n",
    "nonself=list(by_inds.acc[by_inds.type=='non-self'].values)\n",
    "closest=list(by_inds.acc[by_inds.type=='closest non-self'].values)\n",
    "fig,ax=plt.subplots(figsize=(5,2))\n",
    "\n",
    "kde=stats.gaussian_kde(self)\n",
    "#kde.set_bandwidth(0.5)\n",
    "x = np.linspace(np.min(self+[0]), np.max(self+[1]), 100)\n",
    "y=kde(x); y[-1]=0\n",
    "ax=sns.lineplot(x=x, y=y,color='b',linewidth=2.5, label='self '+ r'$\\Delta$'+'(Z)')\n",
    "\n",
    "kde=stats.gaussian_kde(closest)\n",
    "x = np.linspace(np.min(closest+[0]), np.max(closest+[1]), 100)\n",
    "ax=sns.lineplot(x=x, y=kde(x), color='k',linewidth=2.5,linestyle='-', label='closest\\nnon-self '+ r'$\\Delta$'+'(Z)')\n",
    "\n",
    "kde=stats.gaussian_kde(nonself)\n",
    "x = np.linspace(np.min(nonself+[0]), np.max(nonself+[1]), 100)\n",
    "ax=sns.lineplot(x=x, y=kde(x), color='k',linewidth=2.5,linestyle='--', label='random\\nnon-self '+ r'$\\Delta$'+'(Z)')\n",
    "\n",
    "\n",
    "ax.spines['right'].set_visible(False)\n",
    "ax.spines['top'].set_visible(False)\n",
    "ax.spines['left'].set_visible(False)\n",
    "ax.set_yticklabels([])\n",
    "ax.set_yticks([])\n",
    "ax.set_ylabel('probability', fontsize=15,fontweight='bold')\n",
    "ax.set_xlabel('prediction accuracy', fontsize=15,fontweight='bold')\n",
    "ax.set_ylim(0,3)\n",
    "ax.set_title('sign of metabolome changes', fontweight='bold', fontsize=14, color='b')\n",
    "legend_properties = {'weight':'bold','size':12}\n",
    "ax.legend(prop=legend_properties,frameon=False, bbox_to_anchor=(1,1))\n",
    "ax.set_xticks([0, 0.5,1])\n",
    "ax.set_xticks([0, 0.5,1])\n",
    "ax.tick_params(axis='x', which='major', labelsize=15, direction='in')\n",
    "plt.xticks(weight = 'bold');"
   ]
  },
  {
   "cell_type": "code",
   "execution_count": 15,
   "metadata": {
    "scrolled": true
   },
   "outputs": [
    {
     "data": {
      "image/png": "[encoded data removed]",
      "text/plain": [
       "<Figure size 360x144 with 1 Axes>"
      ]
     },
     "metadata": {
      "needs_background": "light"
     },
     "output_type": "display_data"
    }
   ],
   "source": [
    "signprderr.loc[:,'zbin']=pd.cut(signprderr['dZ'], bins=pd.interval_range(start=0, end=8, freq=1))\n",
    "fig,ax=plt.subplots(figsize=(5,2))\n",
    "ax=sns.barplot(x='zbin', y='acc', hue='type', data=signprderr, ci=96, edgecolor=\".5\", \n",
    "               capsize=.1, linewidth=1, errwidth=1, palette=['b','w','gray'])\n",
    "ax.set_xlim((0.1,6.5))\n",
    "#ax.set_ylim((0,1.2))\n",
    "ax.spines['right'].set_visible(False)\n",
    "ax.spines['top'].set_visible(False)\n",
    "legend_properties = {'weight':'bold','size':12}\n",
    "ax.legend(prop=legend_properties,frameon=False,bbox_to_anchor=(1,1))\n",
    "leg = ax.get_legend()\n",
    "new_labels = ['self '+ r'$\\Delta$'+'(Z)', 'closest\\nnon-self '+ r'$\\Delta$'+'(Z)', 'random\\nnon-self '+ r'$\\Delta$'+'(Z)']\n",
    "for t, l in zip(leg.texts, new_labels):\n",
    "    t.set_text(l)\n",
    "ax.set_ylabel('prediction accuracy', fontsize=15, fontweight='bold')\n",
    "ax.set_xlabel('latent space distance', fontsize=15, fontweight='bold')\n",
    "ax.tick_params(axis='x', which='major', labelsize=12, direction='in')\n",
    "ax.tick_params(axis='y', which='major', labelsize=12, direction='in')\n",
    "ax.set_xticks([1,2,3,4,5,6])\n",
    "ax.set_xticklabels([1,2,3,4,5,6])\n",
    "plt.xticks(weight = 'bold');\n",
    "plt.yticks(weight = 'bold');"
   ]
  },
  {
   "cell_type": "code",
   "execution_count": 16,
   "metadata": {},
   "outputs": [],
   "source": [
    "#accuracy of changes in a specific metabolite\n",
    "#Only comparisons within same individual, include closest interaction matrix + 3 random matrices\n",
    "q='butyrate'\n",
    "phid=list(trainmetz.columns).index('butyrate')\n",
    "prderrq=pd.DataFrame(columns=['sensitivity_matrix','prediction','error','dZ','type'])\n",
    "count=1\n",
    "for i in range(len(train.index)):\n",
    "    for j in range(len(test.index)):\n",
    "        \n",
    "        dQ=Qtest[j,:]-Q[i,:]\n",
    "        if META.loc[train.index[i],'host_subject_id'] != META.loc[test.index[j],'host_subject_id']:\n",
    "            continue\n",
    "        #if np.linalg.norm(dQ)>0.2:\n",
    "        #    continue\n",
    "        #using matrix from self\n",
    "        dZ=np.linalg.norm(Z[i,:]-Ztest[j,:])\n",
    "        M=testmetz.loc[test.index[j],q]\n",
    "        dMprd=np.matmul(dQ,sens[train.index[i]])\n",
    "        PRD=dMprd[0][phid]+trainmetz.iloc[i,phid]\n",
    "        err=np.log10(abs(M-PRD))\n",
    "        prderrq.loc[count,:]=[META.loc[train.index[i],'host_subject_id'],META.loc[test.index[j],'host_subject_id'],err,dZ,'same']        \n",
    "        count+=1\n",
    "        \n",
    "        #using closest non-self interaction matrix\n",
    "        dz=1e9\n",
    "        closest=0\n",
    "        for k in range(len(train.index)):\n",
    "            if k==i:\n",
    "                continue\n",
    "            ddz=np.linalg.norm(Z[k,:]-Z[i,:]) #np.linalg.norm(Z[k,:]-Ztest[j,:])\n",
    "            if ddz<dz:\n",
    "                dz=ddz\n",
    "                closest=k\n",
    "        dZ=dz\n",
    "        M=testmetz.loc[test.index[closest],q]\n",
    "        dMprd=np.matmul(dQ,sens[train.index[i]])\n",
    "        PRD=dMprd[0][phid]+trainmetz.iloc[i,phid]\n",
    "        err=np.log10(abs(M-PRD))\n",
    "        prderrq.loc[count,:]=[META.loc[train.index[i],'host_subject_id'],META.loc[test.index[j],'host_subject_id'],err,dZ,'closest']        \n",
    "        count+=1\n",
    "        \n",
    "        order=np.random.permutation(range(len(train.index)))\n",
    "        for k in range(3):\n",
    "            dZ=np.linalg.norm(Z[order[k],:]-Z[i,:]) #np.linalg.norm(Z[order[k],:]-Ztest[j,:])\n",
    "            M=testmetz.loc[test.index[j],q]\n",
    "            dMprd=np.matmul(dQ,sens[train.index[order[k]]])\n",
    "            PRD=dMprd[0][phid]+trainmetz.iloc[i,phid]\n",
    "            err=np.log10(abs(M-PRD))\n",
    "            prderrq.loc[count,:]=[META.loc[train.index[order[k]],'host_subject_id'],META.loc[test.index[j],'host_subject_id'],err,dZ,'different']\n",
    "            count+=1\n",
    "        "
   ]
  },
  {
   "cell_type": "code",
   "execution_count": 17,
   "metadata": {},
   "outputs": [],
   "source": [
    "by_indq=pd.DataFrame(columns=['subject','error','dZ','type'])\n",
    "count=0\n",
    "x=prderrq[['prediction','error','dZ']][prderrq.type=='same'].groupby('prediction').mean()\n",
    "for i in x.index:\n",
    "    by_indq.loc[count,:]=[i,x.loc[i,'error'],x.loc[i,'dZ'],'self']\n",
    "    count+=1\n",
    "x=prderrq[['prediction','error','dZ']][prderrq.type=='closest'].groupby('prediction').mean()\n",
    "for i in x.index:\n",
    "    by_indq.loc[count,:]=[i,x.loc[i,'error'],x.loc[i,'dZ'],'closest non-self']\n",
    "    count+=1\n",
    "x=prderrq[['prediction','error','dZ']][prderrq.type=='different'].groupby('prediction').mean()\n",
    "for i in x.index:\n",
    "    by_indq.loc[count,:]=[i,x.loc[i,'error'],x.loc[i,'dZ'],'non-self']\n",
    "    count+=1"
   ]
  },
  {
   "cell_type": "code",
   "execution_count": 18,
   "metadata": {},
   "outputs": [
    {
     "data": {
      "image/png": "[encoded data removed]",
      "text/plain": [
       "<Figure size 360x144 with 1 Axes>"
      ]
     },
     "metadata": {
      "needs_background": "light"
     },
     "output_type": "display_data"
    }
   ],
   "source": [
    "#histograms\n",
    "selfq=list(by_indq.error[by_indq.type=='self'].values)\n",
    "nonselfq=list(by_indq.error[by_indq.type=='non-self'].values)\n",
    "closestq=list(by_indq.error[by_indq.type=='closest non-self'].values)\n",
    "fig,ax=plt.subplots(figsize=(5,2))\n",
    "\n",
    "kde=stats.gaussian_kde(selfq)\n",
    "#kde.set_bandwidth(0.5)\n",
    "x = np.linspace(np.min(selfq+[0]), np.max(selfq+[1]), 100)\n",
    "y=kde(x); y[-1]=0\n",
    "ax=sns.lineplot(x=x, y=y,color='g',linewidth=2.5, label='self '+ r'$\\Delta$'+'(Z)')\n",
    "\n",
    "kde=stats.gaussian_kde(closestq)\n",
    "x = np.linspace(np.min(closestq+[-1.5]), np.max(closestq+[1]), 100)\n",
    "ax=sns.lineplot(x=x, y=kde(x), color='k',linewidth=2.5,linestyle='-', label='closest\\nnon-self '+ r'$\\Delta$'+'(Z)')\n",
    "\n",
    "kde=stats.gaussian_kde(nonselfq)\n",
    "x = np.linspace(np.min(nonselfq+[-1.5]), np.max(nonselfq+[1]), 100)\n",
    "ax=sns.lineplot(x=x, y=kde(x), color='k',linewidth=2.5,linestyle='--', label='random\\nnon-self '+ r'$\\Delta$'+'(Z)')\n",
    "\n",
    "\n",
    "ax.spines['right'].set_visible(False)\n",
    "ax.spines['top'].set_visible(False)\n",
    "ax.spines['left'].set_visible(False)\n",
    "ax.set_yticklabels([])\n",
    "ax.set_yticks([])\n",
    "ax.set_ylabel('probability', fontsize=15,fontweight='bold')\n",
    "ax.set_xlabel('prediction error (log'+r'$_{10}$'+')', fontsize=15,fontweight='bold')\n",
    "ax.set_ylim(0,1.5)\n",
    "ax.set_title(r'$\\Delta$'+' butyrate concentration', fontweight='bold', fontsize=14, color='g')\n",
    "legend_properties = {'weight':'bold','size':12}\n",
    "ax.legend(prop=legend_properties,frameon=False, bbox_to_anchor=(1,1))\n",
    "ax.set_xticks([-1,-0.5, 0, 0.5,1,1.5])\n",
    "ax.set_xlim(-1.5,1.5)\n",
    "ax.tick_params(axis='x', which='major', labelsize=15, direction='in')\n",
    "plt.xticks(weight = 'bold');"
   ]
  },
  {
   "cell_type": "code",
   "execution_count": 19,
   "metadata": {},
   "outputs": [
    {
     "data": {
      "image/png": "[encoded data removed]",
      "text/plain": [
       "<Figure size 360x144 with 1 Axes>"
      ]
     },
     "metadata": {
      "needs_background": "light"
     },
     "output_type": "display_data"
    }
   ],
   "source": [
    "prderrq.loc[:,'error1']=prderrq.loc[:,'error']+1\n",
    "prderrq.loc[:,'zbin']=pd.cut(prderrq['dZ'], bins=pd.interval_range(start=0, end=8))\n",
    "fig,ax=plt.subplots(figsize=(5,2))\n",
    "ax=sns.barplot(x='zbin', y='error1', hue='type', data=prderrq, ci=95, edgecolor=\".5\", \n",
    "               capsize=.1, linewidth=1, errwidth=1, palette=['g','w','gray'])\n",
    "ax.set_xlim((0.1,6.5))\n",
    "ax.spines['right'].set_visible(False)\n",
    "ax.spines['top'].set_visible(False)\n",
    "legend_properties = {'weight':'bold','size':12}\n",
    "ax.legend(prop=legend_properties,frameon=False,bbox_to_anchor=(1,1))\n",
    "leg = ax.get_legend()\n",
    "new_labels = ['self '+ r'$\\Delta$'+'(Z)', 'closest\\nnon-self '+ r'$\\Delta$'+'(Z)', 'random\\nnon-self '+ r'$\\Delta$'+'(Z)']\n",
    "for t, l in zip(leg.texts, new_labels):\n",
    "    t.set_text(l)\n",
    "ax.set_ylabel('prediction error\\n(log'+r'$_{10}$'+')', fontsize=15, fontweight='bold')\n",
    "ax.set_xlabel('latent space distance', fontsize=15, fontweight='bold')\n",
    "ax.tick_params(axis='x', which='major', labelsize=15, direction='in')\n",
    "ax.tick_params(axis='y', which='major', labelsize=15, direction='in')\n",
    "ax.set_yticks([0, 1, 2, 3])\n",
    "ax.set_yticklabels([-1, 0, 1, 2])\n",
    "ax.set_xticks([1,2,3,4,5,6])\n",
    "ax.set_xticklabels([1,2,3,4,5,6])\n",
    "ax.spines['bottom'].set_position(('axes', 0))\n",
    "plt.xticks(weight = 'bold');\n",
    "plt.yticks(weight = 'bold');"
   ]
  },
  {
   "cell_type": "code",
   "execution_count": null,
   "metadata": {},
   "outputs": [],
   "source": []
  }
 ],
 "metadata": {
  "kernelspec": {
   "display_name": "Python 3 (ipykernel)",
   "language": "python",
   "name": "python3"
  },
  "language_info": {
   "codemirror_mode": {
    "name": "ipython",
    "version": 3
   },
   "file_extension": ".py",
   "mimetype": "text/x-python",
   "name": "python",
   "nbconvert_exporter": "python",
   "pygments_lexer": "ipython3",
   "version": "3.9.7"
  }
 },
 "nbformat": 4,
 "nbformat_minor": 4
}
