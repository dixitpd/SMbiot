{
 "cells": [
  {
   "cell_type": "code",
   "execution_count": 1,
   "metadata": {},
   "outputs": [],
   "source": [
    "import pandas as pd\n",
    "import numpy as np\n",
    "from scipy import stats\n",
    "import seaborn as sns\n",
    "import pickle\n",
    "import matplotlib.pyplot as plt"
   ]
  },
  {
   "cell_type": "code",
   "execution_count": 2,
   "metadata": {},
   "outputs": [],
   "source": [
    "xs=pd.read_csv('ChickenOTUs.txt', sep=\"\\t\", index_col=0)\n",
    "metx=pd.read_csv('Chicken.log10MetabsCtrlNar+0.txt', sep=\"\\t\", index_col=0)\n",
    "\n",
    "#replace NaNs with median \n",
    "for i in metx.columns:\n",
    "    med=metx[i].median()\n",
    "    metx.loc[:,i]=metx.loc[:,i].fillna(med)"
   ]
  },
  {
   "cell_type": "code",
   "execution_count": 3,
   "metadata": {},
   "outputs": [],
   "source": [
    "#zscore metadata\n",
    "nSamp, nMet = metx.shape\n",
    "nD=xs.shape[1]"
   ]
  },
  {
   "cell_type": "code",
   "execution_count": 4,
   "metadata": {},
   "outputs": [],
   "source": [
    "def train_tmi(xs, metz, nQ, nC, nM, alph, ctf):\n",
    "    nSamp, nO = xs.shape;\n",
    "    nMet = metz.shape[1];\n",
    "    nTot                = nQ + nC + nM;\n",
    "    Z                   = 0.1*np.random.randn(nSamp,nTot);\n",
    "    C                   = 0.1*np.random.randn(nTot,nMet);\n",
    "    C[0:nQ,:]           = 0;\n",
    "    thet                = 0.1*np.random.randn(nTot,nO);\n",
    "    thet[nQ+nC:,:]      = 0;\n",
    "    thetp               = thet.transpose();\n",
    "    # hyperparameters\n",
    "    etaZ = 0.001;etaT = 0.001;etaC = 0.001;\n",
    "    Q = np.exp(np.matmul(-Z,thet));\n",
    "    Q=np.divide(Q.transpose(),Q.sum(axis=1)).transpose()\n",
    "    m = 1;\n",
    "    iteration = 1;\n",
    "    while m > ctf:\n",
    "        Q = np.exp(np.matmul(-Z,thet));\n",
    "        Q=np.divide(Q.transpose(),Q.sum(axis=1)).transpose()\n",
    "        delt = xs.values-Q;\n",
    "        # gradients\n",
    "        grthet           = (alph)*np.matmul(Z.transpose(),delt);\n",
    "        grthet[nQ+nC:,:] = 0;\n",
    "        grzQ             = (alph)*np.matmul(delt,thetp);\n",
    "        grzM             = -2*(1-alph)*np.matmul((metz.values-np.matmul(Z,C)),C.transpose());\n",
    "        grz              = grzQ + grzM\n",
    "        grc              = -2*(1-alph)*np.matmul(Z.transpose(),(metz.values - np.matmul(Z,C)))\n",
    "        grc[0:nQ,:]      = 0;\n",
    "        # update the variables\n",
    "        Z     = Z - etaZ*grz\n",
    "        thet  = thet - etaT*grthet\n",
    "        C     = C - etaC*grc\n",
    "        thetp = thet.transpose();\n",
    "        \n",
    "        # errors\n",
    "        dmet=np.matmul(Z,C)-metz.values\n",
    "        kl=np.nansum(xs.values*np.log(xs.values/Q))\n",
    "        er=(dmet*dmet).sum()\n",
    "        error=(1-alph)*kl + alph*er\n",
    "        #m = np.min(np.min(Q));\n",
    "        m=np.linalg.norm(grz)/np.linalg.norm(Z) + np.linalg.norm(grthet)/np.linalg.norm(thet)+np.linalg.norm(grc)/np.linalg.norm(C)\n",
    "        # Output\n",
    "        if np.mod(iteration,5000) == 0:\n",
    "            print(m)\n",
    "        iteration+=1\n",
    "        \n",
    "    return Z, C, thet, error"
   ]
  },
  {
   "cell_type": "code",
   "execution_count": 5,
   "metadata": {},
   "outputs": [],
   "source": [
    "seed=123\n",
    "np.random.seed(seed)"
   ]
  },
  {
   "cell_type": "code",
   "execution_count": 6,
   "metadata": {},
   "outputs": [],
   "source": [
    "# optimization parameters\n",
    "nQ = 2;nC = 18;nM = 0;\n",
    "ctf  = 1e-20; \n",
    "alph = 0.1; \n",
    "gctf = 0.01;"
   ]
  },
  {
   "cell_type": "code",
   "execution_count": 7,
   "metadata": {},
   "outputs": [],
   "source": [
    "#split dataset\n",
    "N=int(nSamp*.2)\n",
    "order=np.random.permutation(xs.index)\n",
    "testids=order[0:N]\n",
    "testids=xs.index[xs.index.isin(xs.index[15:30])] ###### For predicting avilamycin \n",
    "\n",
    "test=xs.loc[testids]\n",
    "train=xs.loc[~xs.index.isin(testids)]\n",
    "testmet=metx.loc[testids]\n",
    "trainmet=metx.loc[~xs.index.isin(testids)]\n",
    "N=len(train.index)"
   ]
  },
  {
   "cell_type": "code",
   "execution_count": 8,
   "metadata": {},
   "outputs": [],
   "source": [
    "mu_met = trainmet.mean();sg_met = trainmet.std();\n",
    "trainmetz=trainmet.subtract(mu_met).divide(sg_met)\n",
    "testmetz=testmet.subtract(mu_met).divide(sg_met)"
   ]
  },
  {
   "cell_type": "code",
   "execution_count": 9,
   "metadata": {},
   "outputs": [
    {
     "name": "stderr",
     "output_type": "stream",
     "text": [
      "/tmp/ipykernel_11937/3940590118.py:37: RuntimeWarning: divide by zero encountered in log\n",
      "  kl=np.nansum(xs.values*np.log(xs.values/Q))\n",
      "/tmp/ipykernel_11937/3940590118.py:37: RuntimeWarning: invalid value encountered in multiply\n",
      "  kl=np.nansum(xs.values*np.log(xs.values/Q))\n"
     ]
    },
    {
     "name": "stdout",
     "output_type": "stream",
     "text": [
      "0.08351538497326141\n",
      "0.05231244326929076\n",
      "0.03762062995493525\n",
      "0.029546374980178286\n",
      "0.024832627876360026\n",
      "0.022167665075562167\n",
      "0.020972328624833902\n",
      "0.02098900461597094\n",
      "0.02196542807475451\n",
      "0.02337633139584265\n",
      "0.024266410969282864\n",
      "0.023428416860328174\n",
      "0.020493901046572748\n",
      "0.016999850198557407\n",
      "0.014592773124184857\n",
      "0.012947860862361726\n",
      "0.01161469128182836\n",
      "0.010477700506892538\n"
     ]
    }
   ],
   "source": [
    "# Train model\n",
    "Z, C, thet, error= train_tmi(train,trainmetz,nQ,nC,nM,alph,gctf);"
   ]
  },
  {
   "cell_type": "code",
   "execution_count": 10,
   "metadata": {},
   "outputs": [],
   "source": [
    "model={}\n",
    "Q=np.exp(np.matmul(-Z,thet));\n",
    "Q=np.divide(Q.transpose(),Q.sum(axis=1)).transpose()\n",
    "model['Z']=Z\n",
    "model['thet']=thet\n",
    "model['Q']=Q\n",
    "model['xs']=train\n",
    "model['C']=C\n",
    "model['metz']=trainmetz\n",
    "model['alph']=alph\n",
    "model['nQ']=nQ\n",
    "model['nC']=nC\n",
    "model['nM']=nM\n",
    "model['nD']=nD\n",
    "model['seed']=seed\n",
    "model['error']=error\n",
    "model['test']=test\n",
    "model['testmetz']=testmetz"
   ]
  },
  {
   "cell_type": "code",
   "execution_count": 11,
   "metadata": {},
   "outputs": [
    {
     "data": {
      "text/plain": [
       "'Avilamycin_18_2_0_123_1.34e+02.pickle'"
      ]
     },
     "execution_count": 11,
     "metadata": {},
     "output_type": "execute_result"
    }
   ],
   "source": [
    "filen = 'Avilamycin_'+str(nC)+'_'+str(nQ)+'_'+str(nM)+'_'+str(seed)+'_'+f'{error:.3}'+'.pickle'\n",
    "filen"
   ]
  },
  {
   "cell_type": "code",
   "execution_count": 12,
   "metadata": {},
   "outputs": [],
   "source": [
    "with open(filen,'wb') as f:\n",
    "        pickle.dump(model,f)"
   ]
  },
  {
   "cell_type": "code",
   "execution_count": 13,
   "metadata": {},
   "outputs": [],
   "source": [
    "filen='Avilamycin_18_2_0_123_1.34e+02.pickle'\n"
   ]
  },
  {
   "cell_type": "code",
   "execution_count": 14,
   "metadata": {},
   "outputs": [],
   "source": [
    "with open(filen,'rb') as f:\n",
    "        model=pickle.load(f)\n",
    "Z=model['Z']\n",
    "thet=model['thet']\n",
    "Q=model['Q']\n",
    "train=model['xs']\n",
    "C=model['C']\n",
    "trainmetz=model['metz']\n",
    "alph=model['alph']\n",
    "nQ=model['nQ']\n",
    "nC=model['nC']\n",
    "nM=model['nM']\n",
    "nD=model['nD']\n",
    "seed=model['seed']\n",
    "error=model['error']\n",
    "test=model['test']\n",
    "testmetz=model['testmetz']"
   ]
  },
  {
   "cell_type": "code",
   "execution_count": 15,
   "metadata": {},
   "outputs": [],
   "source": [
    "def predict_microbiome_pd(model, testmetz):\n",
    "    nTest=len(testmetz.index)\n",
    "    nQ=model['nQ']\n",
    "    nC=model['nC']\n",
    "    Cplus=np.linalg.pinv(model['C'])\n",
    "    muZ=model['Z'].mean(axis=0)\n",
    "    covZ=np.cov(model['Z'].transpose())\n",
    "    cov11=covZ[0:nQ,0:nQ]\n",
    "    cov12=covZ[0:nQ,nQ:]\n",
    "    cov21=cov12.transpose()\n",
    "    cov22=covZ[nQ:,nQ:]\n",
    "    \n",
    "    prd = np.zeros((nTest,model['xs'].shape[1]))\n",
    "    for i in range(nTest):\n",
    "        Zp1 = np.matmul(testmetz.values[i,:],Cplus) \n",
    "        Zp1 = Zp1[nQ:]\n",
    "        mubar = muZ[0:nQ] + np.matmul(np.matmul(cov12,np.linalg.inv(cov22)),Zp1.transpose()-muZ[nQ:]);\n",
    "        Zpx = np.concatenate((mubar.transpose(), Zp1), axis=0)\n",
    "        f = np.matmul(Zpx,model['thet'])\n",
    "        Q = np.exp(-f)\n",
    "        Q = Q/Q.sum()\n",
    "        prd[i,:] = Q;\n",
    "\n",
    "    return prd"
   ]
  },
  {
   "cell_type": "code",
   "execution_count": 16,
   "metadata": {},
   "outputs": [],
   "source": [
    "#evaluate model fit\n",
    "prd=predict_microbiome_pd(model,trainmetz)"
   ]
  },
  {
   "cell_type": "code",
   "execution_count": 17,
   "metadata": {},
   "outputs": [],
   "source": [
    "corrs=[]\n",
    "for i in range(len(train.index)):\n",
    "    r,p=stats.spearmanr(prd[i,:],train.loc[train.index[i],:])\n",
    "    if np.isnan(r):\n",
    "        continue\n",
    "    corrs.append(r)\n",
    "order=np.random.permutation(train.index)\n",
    "hf1=order[0:int(len(order)/2)]\n",
    "hf2=order[int(len(order)/2):]\n",
    "\n",
    "\n",
    "#use random pairs in training as null\n",
    "\n",
    "order=np.random.permutation(train.index)\n",
    "hf1=order[0:int(len(order)/2)]\n",
    "hf2=order[int(len(order)/2):]\n",
    "nullspear=[]\n",
    "nullspearp=[]\n",
    "for i in range(len(hf1)):\n",
    "    r,p = stats.spearmanr(train.loc[hf1[i],:],train.loc[hf2[i],:])\n",
    "    nullspear.append(r)\n",
    "    nullspearp.append(p)\n",
    "s,p=stats.mannwhitneyu(corrs,nullspear,alternative='greater')"
   ]
  },
  {
   "cell_type": "code",
   "execution_count": 18,
   "metadata": {},
   "outputs": [],
   "source": [
    "profile=corrs\n",
    "random=nullspear"
   ]
  },
  {
   "cell_type": "code",
   "execution_count": 19,
   "metadata": {
    "scrolled": false
   },
   "outputs": [
    {
     "data": {
      "image/png": "[encoded data removed]",
      "text/plain": [
       "<Figure size 360x144 with 1 Axes>"
      ]
     },
     "metadata": {
      "needs_background": "light"
     },
     "output_type": "display_data"
    }
   ],
   "source": [
    "#histograms\n",
    "fig,ax=plt.subplots(figsize=(5,2))\n",
    "\n",
    "kde=stats.gaussian_kde(profile)\n",
    "x = np.linspace(np.min(profile+[-0.5]), np.max(profile+[1]), 100)\n",
    "ax=sns.lineplot(x=x, y=kde(x),color='b',linewidth=2.5, label='model fit')\n",
    "\n",
    "kde=stats.gaussian_kde(random)\n",
    "x = np.linspace(np.min(random+[-0.5]), np.max(random+[1]), 100)\n",
    "ax=sns.lineplot(x=x, y=kde(x), color='k',linewidth=2.5, label='random\\npairs')\n",
    "\n",
    "ax.spines['right'].set_visible(False)\n",
    "ax.spines['top'].set_visible(False)\n",
    "ax.spines['left'].set_visible(False)\n",
    "ax.set_yticklabels([])\n",
    "ax.set_yticks([])\n",
    "ax.set_ylabel('probability', fontsize=15,fontweight='bold')\n",
    "ax.set_xlabel('Spearman correlation', fontsize=15,fontweight='bold')\n",
    "ax.set_ylim(0,5.7)\n",
    "ax.set_title('microbiome', fontweight='bold', fontsize=14, color='b')\n",
    "legend_properties = {'weight':'bold','size':12}\n",
    "ax.legend(prop=legend_properties,frameon=False)\n",
    "ax.set_xticks([-0.5,0, 0.5,1])\n",
    "ax.set_xticks([-0.5,0, 0.5,1])\n",
    "ax.tick_params(axis='x', which='major', labelsize=15,direction='in')\n",
    "plt.xticks(weight = 'bold');"
   ]
  },
  {
   "cell_type": "code",
   "execution_count": 20,
   "metadata": {},
   "outputs": [
    {
     "name": "stderr",
     "output_type": "stream",
     "text": [
      "/home/platyias/anaconda3/lib/python3.9/site-packages/scipy/stats/stats.py:4484: SpearmanRConstantInputWarning: An input array is constant; the correlation coefficient is not defined.\n",
      "  warnings.warn(SpearmanRConstantInputWarning())\n"
     ]
    }
   ],
   "source": [
    "#Accuracy for each OTU (training data)\n",
    "corrotu=[]\n",
    "for i in range(len(train.columns)):\n",
    "    r,p=stats.spearmanr(prd[:,i],train.loc[:,train.columns[i]])\n",
    "    if np.isnan(r):\n",
    "        continue\n",
    "    corrotu.append(r)\n",
    "    "
   ]
  },
  {
   "cell_type": "code",
   "execution_count": 21,
   "metadata": {},
   "outputs": [],
   "source": [
    "order=np.random.permutation(train.columns)\n",
    "hf1=order[0:int(len(order)/2)]\n",
    "hf2=order[int(len(order)/2):]\n",
    "nullotu=[]\n",
    "nullotup=[]\n",
    "for i in range(len(hf1)):\n",
    "    r,p = stats.spearmanr(train.loc[:,hf1[i]],train.loc[:,hf2[i]])\n",
    "    if np.isnan(r):\n",
    "        continue\n",
    "    nullotu.append(r)\n",
    "    nullotup.append(p)"
   ]
  },
  {
   "cell_type": "code",
   "execution_count": 22,
   "metadata": {},
   "outputs": [],
   "source": [
    "corrotu_pred=corrotu"
   ]
  },
  {
   "cell_type": "code",
   "execution_count": 23,
   "metadata": {},
   "outputs": [
    {
     "data": {
      "image/png": "[encoded data removed]",
      "text/plain": [
       "<Figure size 360x144 with 1 Axes>"
      ]
     },
     "metadata": {
      "needs_background": "light"
     },
     "output_type": "display_data"
    }
   ],
   "source": [
    "#histograms\n",
    "fig,ax=plt.subplots(figsize=(5,2))\n",
    "\n",
    "kde=stats.gaussian_kde(corrotu)\n",
    "x = np.linspace(np.min(corrotu+[-0.5]), np.max(corrotu+[1]), 100)\n",
    "ax=sns.lineplot(x=x, y=kde(x),color='b',linewidth=2.5, label='model fit')\n",
    "\n",
    "kde=stats.gaussian_kde(nullotu)\n",
    "x = np.linspace(np.min(nullotu+[-0.75]), np.max(nullotu+[1]), 100)\n",
    "ax=sns.lineplot(x=x, y=kde(x), color='k',linewidth=2.5, label='random\\npairs')\n",
    "\n",
    "\n",
    "ax.spines['right'].set_visible(False)\n",
    "ax.spines['top'].set_visible(False)\n",
    "ax.spines['left'].set_visible(False)\n",
    "ax.set_yticklabels([])\n",
    "ax.set_yticks([])\n",
    "ax.set_ylabel('probability', fontsize=15,fontweight='bold')\n",
    "ax.set_xlabel('Spearman correlation', fontsize=15,fontweight='bold')\n",
    "ax.set_ylim(0,3.5)\n",
    "ax.set_xlim(-0.75,1.1)\n",
    "ax.set_title('ASV relative abundances', fontweight='bold', fontsize=14, color='b')\n",
    "legend_properties = {'weight':'bold','size':12}\n",
    "ax.legend(prop=legend_properties,frameon=False, bbox_to_anchor=(0.38,1))\n",
    "ax.set_xticks([-0.5,0, 0.5,1])\n",
    "ax.set_xticks([-0.5,0, 0.5,1])\n",
    "ax.tick_params(axis='x', which='major', labelsize=15,direction='in')\n",
    "plt.xticks(weight = 'bold');"
   ]
  },
  {
   "cell_type": "code",
   "execution_count": 24,
   "metadata": {},
   "outputs": [],
   "source": [
    "def predict_metadata_pd(model,test):\n",
    "    nTest=len(test.index)\n",
    "    nQ=model['nQ']\n",
    "    nC=model['nC']\n",
    "    ths=model['thet'][0:nQ+nC,:]\n",
    "    Ztest = 0.1*np.random.randn(nTest,nC+nQ);\n",
    "    eta = 0.005;\n",
    "    for i in range(10000):\n",
    "        f=np.matmul(Ztest,ths)\n",
    "        Q=np.exp(-f)\n",
    "        Q  = np.divide(Q.transpose(),Q.sum(axis=1)).transpose()\n",
    "        delt=test.values-Q\n",
    "        grz=np.matmul(delt,ths.transpose())\n",
    "        Ztest=Ztest-eta*grz\n",
    "    muZ=model['Z'].mean(axis=0)\n",
    "    covZ=np.cov(Z.transpose())\n",
    "    cov11=covZ[nQ+nC:,nQ+nC:]\n",
    "    cov12=covZ[nQ+nC:,0:nQ+nC]\n",
    "    cov21=cov12.transpose()\n",
    "    cov22=covZ[0:nQ+nC,0:nQ+nC]\n",
    "    prd=np.zeros((nTest,model['metz'].shape[1]))\n",
    "    for i in range(nTest):\n",
    "        Zp1 = Ztest[i,:]\n",
    "        mubar = muZ[nQ+nC:] + np.matmul(np.matmul(cov12,np.linalg.inv(cov22)),Zp1.transpose()-muZ[0:nQ+nC])\n",
    "        Zpx = np.concatenate((Zp1,mubar.transpose()), axis=0)\n",
    "        f = np.matmul(Zpx,model['C'])        \n",
    "        prd[i,:] = f;   \n",
    "    return prd"
   ]
  },
  {
   "cell_type": "code",
   "execution_count": 25,
   "metadata": {},
   "outputs": [],
   "source": [
    "prddf=pd.DataFrame(index=testmetz.index,columns=testmetz.columns, data=predict_metadata_pd(model,test))"
   ]
  },
  {
   "cell_type": "code",
   "execution_count": 26,
   "metadata": {},
   "outputs": [],
   "source": [
    "prddftrain=pd.DataFrame(index=trainmetz.index,columns=trainmetz.columns, data=predict_metadata_pd(model,train))"
   ]
  },
  {
   "cell_type": "code",
   "execution_count": 27,
   "metadata": {},
   "outputs": [],
   "source": [
    "#Accuracy across metabolites (Z-normalized) trainig data\n",
    "spear=[]\n",
    "spearp=[]\n",
    "for i in range(len(test.index)):\n",
    "    r,p = stats.spearmanr(prddftrain.values[i,:],trainmetz.values[i,:])\n",
    "    if np.isnan(r):\n",
    "        continue\n",
    "    spear.append(r)\n",
    "    spearp.append(p)\n",
    "    \n",
    "#use random pairs in training as null\n",
    "order=np.random.permutation(train.index)\n",
    "hf1=order[0:int(len(order)/2)]\n",
    "hf2=order[int(len(order)/2):]\n",
    "nullspear=[]\n",
    "nullspearp=[]\n",
    "for i in range(len(hf1)):\n",
    "    r,p = stats.spearmanr(trainmetz.loc[hf1[i],:],trainmetz.loc[hf2[i],:])\n",
    "    nullspear.append(r)\n",
    "    nullspearp.append(p)\n",
    "s,p=stats.mannwhitneyu(spear,nullspear,alternative='greater')\n"
   ]
  },
  {
   "cell_type": "code",
   "execution_count": 28,
   "metadata": {},
   "outputs": [],
   "source": [
    "mettrain=spear\n",
    "randommet=nullspear"
   ]
  },
  {
   "cell_type": "code",
   "execution_count": 29,
   "metadata": {},
   "outputs": [
    {
     "data": {
      "image/png": "[encoded data removed]",
      "text/plain": [
       "<Figure size 360x144 with 1 Axes>"
      ]
     },
     "metadata": {
      "needs_background": "light"
     },
     "output_type": "display_data"
    }
   ],
   "source": [
    "#histograms\n",
    "fig,ax=plt.subplots(figsize=(5,2))\n",
    "\n",
    "kde=stats.gaussian_kde(mettrain)\n",
    "x = np.linspace(np.min(mettrain+[-0.7]), np.max(mettrain+[1]), 100)\n",
    "y=kde(x)\n",
    "y[-1]=0\n",
    "ax=sns.lineplot(x=x, y=y,color='g',linewidth=2.5, label='model fit')\n",
    "\n",
    "kde=stats.gaussian_kde(randommet)\n",
    "x = np.linspace(np.min(randommet+[-0.7]), np.max(randommet+[1]), 100)\n",
    "\n",
    "ax=sns.lineplot(x=x, y=kde(x), color='k',linewidth=2.5, label='random\\npairs')\n",
    "\n",
    "ax.spines['right'].set_visible(False)\n",
    "ax.spines['top'].set_visible(False)\n",
    "ax.spines['left'].set_visible(False)\n",
    "ax.set_yticklabels([])\n",
    "ax.set_yticks([])\n",
    "ax.set_ylabel('probability', fontsize=15,fontweight='bold')\n",
    "ax.set_xlabel('Spearman correlation', fontsize=15,fontweight='bold')\n",
    "ax.set_ylim(0,5)\n",
    "ax.set_title('cecum metabolome', fontweight='bold', fontsize=14, color='g')\n",
    "legend_properties = {'weight':'bold','size':12}\n",
    "ax.legend(prop=legend_properties,frameon=False, bbox_to_anchor=(0.5,1))\n",
    "ax.set_xticks([-0.5,0, 0.5,1])\n",
    "ax.set_xticks([-0.5,0, 0.5,1])\n",
    "ax.tick_params(axis='x', which='major', labelsize=15, direction='in')\n",
    "plt.xticks(weight = 'bold');"
   ]
  },
  {
   "cell_type": "code",
   "execution_count": 30,
   "metadata": {},
   "outputs": [],
   "source": [
    "#Accuracy for each metadata variable training data\n",
    "corrmet=pd.DataFrame(index=model['metz'].columns, columns=['r','p'])\n",
    "for i in model['metz'].columns:\n",
    "    r,p=stats.spearmanr(prddftrain.loc[:,i],trainmetz.loc[:,i])\n",
    "    corrmet.loc[i,:]=[r,p]\n",
    "\n",
    "corrmettrain=list(corrmet.r.values)\n",
    "\n",
    "order=np.random.permutation(trainmetz.columns)\n",
    "hf1=order[0:int(len(order)/2)]\n",
    "hf2=order[int(len(order)/2):]\n",
    "nullmet=[]\n",
    "nullmetp=[]\n",
    "for i in range(len(hf1)):\n",
    "    r,p = stats.spearmanr(trainmetz.loc[:,hf1[i]],trainmetz.loc[:,hf2[i]])\n",
    "    if np.isnan(r):\n",
    "        continue\n",
    "    nullmet.append(r)\n",
    "    nullmetp.append(p)"
   ]
  },
  {
   "cell_type": "code",
   "execution_count": 31,
   "metadata": {},
   "outputs": [
    {
     "data": {
      "image/png": "[encoded data removed]",
      "text/plain": [
       "<Figure size 360x144 with 1 Axes>"
      ]
     },
     "metadata": {
      "needs_background": "light"
     },
     "output_type": "display_data"
    }
   ],
   "source": [
    "#histograms\n",
    "fig,ax=plt.subplots(figsize=(5,2))\n",
    "\n",
    "kde=stats.gaussian_kde(corrmettrain)\n",
    "x = np.linspace(np.min(corrmettrain+[-0.5]), np.max(corrmettrain+[1]), 100)\n",
    "ax=sns.lineplot(x=x, y=kde(x),color='g',linewidth=2.5, label='model fit')\n",
    "\n",
    "kde=stats.gaussian_kde(nullmet)\n",
    "x = np.linspace(np.min(nullmet+[-0.7]), np.max(nullmet+[1]), 100)\n",
    "ax=sns.lineplot(x=x, y=kde(x), color='k',linewidth=2.5, label='random\\npairs')\n",
    "\n",
    "\n",
    "ax.spines['right'].set_visible(False)\n",
    "ax.spines['top'].set_visible(False)\n",
    "ax.spines['left'].set_visible(False)\n",
    "ax.set_yticklabels([])\n",
    "ax.set_yticks([])\n",
    "ax.set_ylabel('probability', fontsize=15,fontweight='bold')\n",
    "ax.set_xlabel('Spearman correlation', fontsize=15,fontweight='bold')\n",
    "ax.set_ylim(0,5.2)\n",
    "ax.set_title('metabolite abundances', fontweight='bold', fontsize=14, color='g')\n",
    "legend_properties = {'weight':'bold','size':12}\n",
    "ax.legend(prop=legend_properties,frameon=False, bbox_to_anchor=(0.5,1))\n",
    "ax.set_xticks([-0.5,0, 0.5,1])\n",
    "ax.tick_params(axis='x', which='major', labelsize=15,direction='in')\n",
    "plt.xticks(weight = 'bold');"
   ]
  },
  {
   "cell_type": "code",
   "execution_count": 32,
   "metadata": {},
   "outputs": [],
   "source": [
    "#Accuracy across metabolites (Z-normalized)\n",
    "spear=[]\n",
    "spearp=[]\n",
    "for i in range(len(test.index)):\n",
    "    r,p = stats.spearmanr(prddf.values[i,:],testmetz.values[i,:])\n",
    "    if np.isnan(r):\n",
    "        continue\n",
    "    spear.append(r)\n",
    "    spearp.append(p)\n",
    "    \n",
    "#use random pairs in training as null\n",
    "n=10\n",
    "pvals=[]\n",
    "for i in range(n):\n",
    "    order=np.random.permutation(train.index)\n",
    "    hf1=order[0:int(len(order)/2)]\n",
    "    hf2=order[int(len(order)/2):]\n",
    "    nullspear=[]\n",
    "    nullspearp=[]\n",
    "    for i in range(len(hf1)):\n",
    "        r,p = stats.spearmanr(trainmetz.loc[hf1[i],:],trainmetz.loc[hf2[i],:])\n",
    "        nullspear.append(r)\n",
    "        nullspearp.append(p)\n",
    "    s,p=stats.mannwhitneyu(spear,nullspear,alternative='greater')\n",
    "    pvals.append(p)\n",
    "p=np.median(pvals)"
   ]
  },
  {
   "cell_type": "code",
   "execution_count": 33,
   "metadata": {},
   "outputs": [],
   "source": [
    "randommet=nullspear"
   ]
  },
  {
   "cell_type": "code",
   "execution_count": 34,
   "metadata": {},
   "outputs": [],
   "source": [
    "prd_metprofile=spear"
   ]
  },
  {
   "cell_type": "code",
   "execution_count": 35,
   "metadata": {},
   "outputs": [
    {
     "data": {
      "image/png": "[encoded data removed]",
      "text/plain": [
       "<Figure size 360x144 with 1 Axes>"
      ]
     },
     "metadata": {
      "needs_background": "light"
     },
     "output_type": "display_data"
    }
   ],
   "source": [
    "#histograms\n",
    "fig,ax=plt.subplots(figsize=(5,2))\n",
    "\n",
    "kde=stats.gaussian_kde(prd_metprofile)\n",
    "x = np.linspace(np.min(prd_metprofile+[-0.7]), np.max(prd_metprofile+[1]), 100)\n",
    "ax=sns.lineplot(x=x, y=kde(x), color='g',linewidth=2.5,linestyle='-', label='predictions')\n",
    "\n",
    "kde=stats.gaussian_kde(randommet)\n",
    "x = np.linspace(np.min(randommet+[-0.7]), np.max(randommet+[1]), 100)\n",
    "ax=sns.lineplot(x=x, y=kde(x), color='k',linewidth=2.5, label='random\\npairs')\n",
    "\n",
    "ax.spines['right'].set_visible(False)\n",
    "ax.spines['top'].set_visible(False)\n",
    "ax.spines['left'].set_visible(False)\n",
    "ax.set_yticklabels([])\n",
    "ax.set_yticks([])\n",
    "ax.set_ylabel('probability', fontsize=15,fontweight='bold')\n",
    "ax.set_xlabel('Spearman correlation', fontsize=15,fontweight='bold')\n",
    "ax.set_ylim(0,2.7)\n",
    "ax.set_title('cecum metabolome', fontweight='bold', fontsize=14, color='g')\n",
    "legend_properties = {'weight':'bold','size':12}\n",
    "ax.legend(prop=legend_properties,frameon=False, bbox_to_anchor=(0.7,1))\n",
    "ax.set_xticks([-0.5,0, 0.5,1])\n",
    "ax.set_xticks([-0.5,0, 0.5,1])\n",
    "ax.tick_params(axis='x', which='major', labelsize=15, direction='in')\n",
    "plt.xticks(weight = 'bold');"
   ]
  },
  {
   "cell_type": "code",
   "execution_count": 36,
   "metadata": {},
   "outputs": [],
   "source": [
    "#Accuracy for each metadata variable\n",
    "corrmet=pd.DataFrame(index=model['metz'].columns, columns=['r','p'])\n",
    "for i in model['metz'].columns:\n",
    "    r,p=stats.spearmanr(prddf.loc[:,i],testmetz.loc[:,i])\n",
    "    corrmet.loc[i,:]=[r,p]\n",
    "\n",
    "corrmetr=list(corrmet.r.values)"
   ]
  },
  {
   "cell_type": "code",
   "execution_count": 37,
   "metadata": {},
   "outputs": [],
   "source": [
    "order=np.random.permutation(trainmetz.columns)\n",
    "hf1=order[0:int(len(order)/2)]\n",
    "hf2=order[int(len(order)/2):]\n",
    "nullmet=[]\n",
    "nullmetp=[]\n",
    "for i in range(len(hf1)):\n",
    "    r,p = stats.spearmanr(trainmetz.loc[:,hf1[i]],trainmetz.loc[:,hf2[i]])\n",
    "    if np.isnan(r):\n",
    "        continue\n",
    "    nullmet.append(r)\n",
    "    nullmetp.append(p)"
   ]
  },
  {
   "cell_type": "code",
   "execution_count": 38,
   "metadata": {},
   "outputs": [],
   "source": [
    "corrmet_pred=list(corrmet.r.values)"
   ]
  },
  {
   "cell_type": "code",
   "execution_count": 39,
   "metadata": {},
   "outputs": [],
   "source": [
    "corrmet_pred=list(corrmet_pred)"
   ]
  },
  {
   "cell_type": "code",
   "execution_count": 40,
   "metadata": {},
   "outputs": [
    {
     "data": {
      "image/png": "[encoded data removed]",
      "text/plain": [
       "<Figure size 360x144 with 1 Axes>"
      ]
     },
     "metadata": {
      "needs_background": "light"
     },
     "output_type": "display_data"
    }
   ],
   "source": [
    "#histograms\n",
    "fig,ax=plt.subplots(figsize=(5,2))\n",
    "\n",
    "kde=stats.gaussian_kde(corrmet_pred)\n",
    "x = np.linspace(np.min(corrmet_pred+[-0.7]), np.max(corrmet_pred+[1]), 100)\n",
    "ax=sns.lineplot(x=x, y=kde(x), color='g',linewidth=2.5,linestyle='-', label='predictions')\n",
    "\n",
    "kde=stats.gaussian_kde(nullmet)\n",
    "x = np.linspace(np.min(nullmet+[-0.7]), np.max(nullmet+[1]), 100)\n",
    "ax=sns.lineplot(x=x, y=kde(x), color='k',linewidth=2.5, label='random\\npairs')\n",
    "\n",
    "\n",
    "ax.spines['right'].set_visible(False)\n",
    "ax.spines['top'].set_visible(False)\n",
    "ax.spines['left'].set_visible(False)\n",
    "ax.set_yticklabels([])\n",
    "ax.set_yticks([])\n",
    "ax.set_ylabel('probability', fontsize=15,fontweight='bold')\n",
    "ax.set_xlabel('Spearman correlation', fontsize=15,fontweight='bold')\n",
    "ax.set_ylim(0,2)\n",
    "ax.set_title('metabolite abundances', fontweight='bold', fontsize=14, color='g')\n",
    "legend_properties = {'weight':'bold','size':12}\n",
    "ax.legend(prop=legend_properties,frameon=False, bbox_to_anchor=(0.7,1))\n",
    "ax.set_xticks([-0.5,0, 0.5,1])\n",
    "ax.tick_params(axis='x', which='major', labelsize=15,direction='in')\n",
    "plt.xticks(weight = 'bold');"
   ]
  },
  {
   "cell_type": "code",
   "execution_count": 41,
   "metadata": {},
   "outputs": [],
   "source": [
    "pd.set_option('display.max_rows', 1000)"
   ]
  },
  {
   "cell_type": "code",
   "execution_count": 42,
   "metadata": {},
   "outputs": [
    {
     "data": {
      "text/plain": [
       "0.7610062893081762"
      ]
     },
     "execution_count": 42,
     "metadata": {},
     "output_type": "execute_result"
    }
   ],
   "source": [
    "#Fraction positive correlations\n",
    "(corrmet.r>0).sum()/len(corrmet)"
   ]
  },
  {
   "cell_type": "code",
   "execution_count": 43,
   "metadata": {},
   "outputs": [
    {
     "data": {
      "text/plain": [
       "0.10272536687631027"
      ]
     },
     "execution_count": 43,
     "metadata": {},
     "output_type": "execute_result"
    }
   ],
   "source": [
    "#Number significant correlations\n",
    "len(corrmet[(corrmet.r>0)&(corrmet.p<0.05)])/len(corrmet)"
   ]
  },
  {
   "cell_type": "code",
   "execution_count": 44,
   "metadata": {},
   "outputs": [
    {
     "data": {
      "text/plain": [
       "0.5142857142857142"
      ]
     },
     "execution_count": 44,
     "metadata": {},
     "output_type": "execute_result"
    }
   ],
   "source": [
    "corrmet[(corrmet.r>0)&(corrmet.p<0.05)].r.min()"
   ]
  },
  {
   "cell_type": "code",
   "execution_count": 47,
   "metadata": {},
   "outputs": [],
   "source": [
    "corrmet.loc[:,'sig']=0\n",
    "corrmet.loc[corrmet.index[(corrmet.r>0)&(corrmet.p<0.05)],'sig']=1"
   ]
  },
  {
   "cell_type": "code",
   "execution_count": 48,
   "metadata": {},
   "outputs": [],
   "source": [
    "corrmet=corrmet.sort_values('r')\n",
    "corrmet.loc[:,'rank']=range(len(corrmet))"
   ]
  },
  {
   "cell_type": "code",
   "execution_count": 49,
   "metadata": {},
   "outputs": [],
   "source": [
    "#compare sign of predicted and measured changes vs control\n",
    "prddfraw=prddf.multiply(sg_met).add(mu_met)\n",
    "sign=pd.DataFrame(index=prddf.columns, columns=['measured','predicted','tp'])\n",
    "for i in prddf.columns:\n",
    "    sign.loc[i,'measured']=1/(trainmet.loc[xs.index[0:15],i].mean()/testmet[i].mean())\n",
    "    sign.loc[i,'predicted']=1/(trainmet.loc[xs.index[0:15],i].mean()/prddfraw[i].mean())"
   ]
  },
  {
   "cell_type": "code",
   "execution_count": 50,
   "metadata": {},
   "outputs": [],
   "source": [
    "sign.loc[:,'tp']=0\n",
    "for i in sign.index:\n",
    "    if (sign.loc[i,'measured']>1)&(sign.loc[i,'predicted']>1):\n",
    "        sign.loc[i,'tp']=1\n",
    "    if (sign.loc[i,'measured']<1)&(sign.loc[i,'predicted']<1):\n",
    "        sign.loc[i,'tp']=1"
   ]
  },
  {
   "cell_type": "code",
   "execution_count": 51,
   "metadata": {},
   "outputs": [
    {
     "data": {
      "text/plain": [
       "SpearmanrResult(correlation=0.49290266355219753, pvalue=1.4437149533813563e-30)"
      ]
     },
     "execution_count": 51,
     "metadata": {},
     "output_type": "execute_result"
    },
    {
     "data": {
      "image/png": "[encoded data removed]",
      "text/plain": [
       "<Figure size 288x288 with 1 Axes>"
      ]
     },
     "metadata": {
      "needs_background": "light"
     },
     "output_type": "display_data"
    }
   ],
   "source": [
    "#ax=sns.scatterplot(x=np.log2(sign.measured.astype(float)), y=np.log2(sign.predicted.astype(float)), s=50, color='k')\n",
    "fig,ax=plt.subplots(figsize=(4,4))\n",
    "ax=sns.regplot(y=sign.measured.astype(float), x=sign.predicted.astype(float), color='gray', line_kws={\"color\": \"blue\"})\n",
    "ax.set_xlabel('Fold change (predicted)', fontsize=15, fontweight='bold')\n",
    "ax.set_ylabel('Fold change\\n(measured)', fontsize=15, fontweight='bold')\n",
    "\n",
    "ax.spines['right'].set_visible(False)\n",
    "ax.spines['top'].set_visible(False)\n",
    "ax.set_xticks([0.95,1,1.05])\n",
    "ax.set_yticks([0.7,1,1.3])\n",
    "ax.set_ylim(0.7,1.4)\n",
    "ax.tick_params(axis='both', which='major', labelsize=15,direction='in')\n",
    "plt.xticks(weight = 'bold');\n",
    "plt.yticks(weight = 'bold');\n",
    "stats.spearmanr(sign.measured,sign.predicted)"
   ]
  },
  {
   "cell_type": "code",
   "execution_count": 54,
   "metadata": {},
   "outputs": [],
   "source": [
    "aas=[\n",
    "'alanine',\n",
    "'lysine',\n",
    "'aspartate',\n",
    "'arginine',\n",
    "'glutamine',\n",
    "'methionine',\n",
    "'phenylalanine',\n",
    "'tyrosine',\n",
    "'cysteine',\n",
    "'leucine',\n",
    "'histidine',\n",
    "'proline',\n",
    "'asparagine',\n",
    "'valine',\n",
    "'threonine',\n",
    "'isoleucine',\n",
    "'serine',\n",
    "'glycine',\n",
    "'tryptophan',\n",
    "'glutamate']"
   ]
  },
  {
   "cell_type": "code",
   "execution_count": 55,
   "metadata": {},
   "outputs": [],
   "source": [
    "AAs=pd.DataFrame(columns=['aa','type','fold'])\n",
    "count=1\n",
    "for i in aas:\n",
    "    AAs.loc[count,:]=[i,'measured',np.log2(sign.loc[i,'measured'])]\n",
    "    count+=1\n",
    "    AAs.loc[count,:]=[i,'predicted',np.log2(sign.loc[i,'predicted'])]\n",
    "    count+=1"
   ]
  },
  {
   "cell_type": "code",
   "execution_count": 56,
   "metadata": {},
   "outputs": [
    {
     "data": {
      "image/png": "[encoded data removed]",
      "text/plain": [
       "<Figure size 144x432 with 1 Axes>"
      ]
     },
     "metadata": {
      "needs_background": "light"
     },
     "output_type": "display_data"
    }
   ],
   "source": [
    "fig,ax=plt.subplots(figsize=(2,6))\n",
    "ax=sns.barplot(y='aa', x='fold', hue='type', data=AAs, edgecolor=\".5\", \n",
    "               capsize=.1, linewidth=1, errwidth=1, palette=['red','pink'])\n",
    "ax.set_ylim((-0.5,24))\n",
    "#ax.spines['bottom'].set_position(('axes', 0.5))\n",
    "ax.spines['right'].set_visible(False)\n",
    "ax.spines['top'].set_visible(False)\n",
    "#legend_properties = {'weight':'bold','size':12}\n",
    "ax.legend(prop=legend_properties,frameon=False,loc='upper center')\n",
    "#leg = ax.get_legend()\n",
    "#new_labels = ['self '+ r'$\\Delta$'+'(Z)', 'non self '+ r'$\\Delta$'+'(Z)']\n",
    "#for t, l in zip(leg.texts, new_labels):\n",
    "#    t.set_text(l)\n",
    "ax.set_ylabel('', fontsize=15, fontweight='bold')\n",
    "ax.set_xlabel('fold change(log'+r'$_{2}$'+')', fontsize=15, fontweight='bold')\n",
    "ax.tick_params(axis='x', which='major', labelsize=12, direction='in')\n",
    "ax.tick_params(axis='y', which='major', labelsize=12, direction='in')\n",
    "ax.set_xticks([-0.04,-0.02,0,0.02])\n",
    "#ax.set_xticklabels([1,2,3,4,5,6])\n",
    "plt.xticks(weight = 'bold');\n",
    "plt.yticks(weight = 'bold');"
   ]
  },
  {
   "cell_type": "code",
   "execution_count": 57,
   "metadata": {},
   "outputs": [],
   "source": [
    "lc=['myristoylcarnitine (C14)',\n",
    "'palmitoylcarnitine (C16)',\n",
    "'margaroylcarnitine (C17)*',\n",
    "'stearoylcarnitine (C18)',\n",
    "'arachidoylcarnitine (C20)*',\n",
    "'lignoceroylcarnitine (C24)*',\n",
    "'cerotoylcarnitine (C26)*',\n",
    "'myristoleate (14:1n5)',\n",
    "'palmitoleate (16:1n7)',\n",
    "'10-heptadecenoate (17:1n7)',\n",
    "'oleate/vaccenate (18:1)',\n",
    "'10-nonadecenoate (19:1n9)',\n",
    "'eicosenoate (20:1)',\n",
    "'erucate (22:1n9)',\n",
    "'tetradecadienoate (14:2)*',\n",
    "'stearidonate (18:4n3)',\n",
    "'eicosapentaenoate (EPA; 20:5n3)',\n",
    "'docosapentaenoate (n3 DPA; 22:5n3)',\n",
    "'docosahexaenoate (DHA; 22:6n3)',\n",
    "'docosatrienoate (22:3n3)',\n",
    "'hexadecadienoate (16:2n6)',\n",
    "'linoleate (18:2n6)',\n",
    "'linolenate [alpha or gamma; (18:3n3 or 6)]',\n",
    "'dihomo-linoleate (20:2n6)',\n",
    "'dihomo-linolenate (20:3n3 or n6)',\n",
    "'arachidonate (20:4n6)',\n",
    "'docosatrienoate (22:3n6)*',\n",
    "'adrenate (22:4n6)',\n",
    "'docosapentaenoate (n6 DPA; 22:5n6)',\n",
    "'docosadienoate (22:2n6)',\n",
    "'mead acid (20:3n9)',\n",
    "'myristate (14:0)',\n",
    "'pentadecanoate (15:0)',\n",
    "'palmitate (16:0)',\n",
    "'margarate (17:0)',\n",
    "'stearate (18:0)',\n",
    "'nonadecanoate (19:0)',\n",
    "'arachidate (20:0)'\n",
    "]"
   ]
  },
  {
   "cell_type": "code",
   "execution_count": 58,
   "metadata": {},
   "outputs": [],
   "source": [
    "LCs=pd.DataFrame(columns=['lc','type','fold'])\n",
    "count=1\n",
    "for i in sign.index[sign.index.isin(lc)]:\n",
    "    LCs.loc[count,:]=[i,'measured',np.log2(sign.loc[i,'measured'])]\n",
    "    count+=1\n",
    "    LCs.loc[count,:]=[i,'predicted',np.log2(sign.loc[i,'predicted'])]\n",
    "    count+=1\n"
   ]
  },
  {
   "cell_type": "code",
   "execution_count": 59,
   "metadata": {},
   "outputs": [
    {
     "data": {
      "image/png": "[encoded data removed]",
      "text/plain": [
       "<Figure size 144x360 with 1 Axes>"
      ]
     },
     "metadata": {
      "needs_background": "light"
     },
     "output_type": "display_data"
    }
   ],
   "source": [
    "fig,ax=plt.subplots(figsize=(2,5))\n",
    "ax=sns.barplot(y='lc', x='fold', hue='type', data=LCs, edgecolor=\".5\", \n",
    "               capsize=.1, linewidth=1, errwidth=1, palette=['blue','lightblue'])\n",
    "ax.set_ylim((-0.5,18))\n",
    "#ax.spines['bottom'].set_position(('axes', 0.5))\n",
    "ax.spines['right'].set_visible(False)\n",
    "ax.spines['top'].set_visible(False)\n",
    "#legend_properties = {'weight':'bold','size':12}\n",
    "ax.legend(prop=legend_properties,frameon=False,loc='upper center')\n",
    "#leg = ax.get_legend()\n",
    "#new_labels = ['self '+ r'$\\Delta$'+'(Z)', 'non self '+ r'$\\Delta$'+'(Z)']\n",
    "#for t, l in zip(leg.texts, new_labels):\n",
    "#    t.set_text(l)\n",
    "ax.set_ylabel('', fontsize=15, fontweight='bold')\n",
    "ax.set_xlabel('fold change(log'+r'$_{2}$'+')', fontsize=15, fontweight='bold')\n",
    "ax.tick_params(axis='x', which='major', labelsize=12, direction='in')\n",
    "ax.tick_params(axis='y', which='major', labelsize=12, direction='in')\n",
    "ax.set_xticks([-0.08,-0.04,0])\n",
    "#ax.set_xticklabels([1,2,3,4,5,6])\n",
    "plt.xticks(weight = 'bold');\n",
    "plt.yticks(weight = 'bold');"
   ]
  }
 ],
 "metadata": {
  "kernelspec": {
   "display_name": "Python 3 (ipykernel)",
   "language": "python",
   "name": "python3"
  },
  "language_info": {
   "codemirror_mode": {
    "name": "ipython",
    "version": 3
   },
   "file_extension": ".py",
   "mimetype": "text/x-python",
   "name": "python",
   "nbconvert_exporter": "python",
   "pygments_lexer": "ipython3",
   "version": "3.9.7"
  }
 },
 "nbformat": 4,
 "nbformat_minor": 4
}
